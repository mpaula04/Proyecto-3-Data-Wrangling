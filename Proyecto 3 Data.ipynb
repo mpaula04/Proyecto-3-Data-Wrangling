{
 "cells": [
  {
   "cell_type": "markdown",
   "id": "3Xg_RQfnafXz",
   "metadata": {
    "id": "3Xg_RQfnafXz"
   },
   "source": [
    "# ¡Llena ese carrito!"
   ]
  },
  {
   "cell_type": "markdown",
   "id": "mhIvmmkW414q",
   "metadata": {
    "id": "mhIvmmkW414q"
   },
   "source": [
    "# Introducción\n",
    "\n",
    "Instacart es una plataforma de entregas de comestibles donde la clientela puede registrar un pedido y hacer que se lo entreguen, similar a Uber Eats y Door Dash.\n",
    "El conjunto de datos que te hemos proporcionado tiene modificaciones del original. Redujimos el tamaño del conjunto para que tus cálculos se hicieran más rápido e introdujimos valores ausentes y duplicados. Tuvimos cuidado de conservar las distribuciones de los datos originales cuando hicimos los cambios.\n",
    "\n",
    "Debes completar tres pasos. Para cada uno de ellos, escribe una breve introducción que refleje con claridad cómo pretendes resolver cada paso, y escribe párrafos explicatorios que justifiquen tus decisiones al tiempo que avanzas en tu solución.  También escribe una conclusión que resuma tus hallazgos y elecciones.\n"
   ]
  },
  {
   "cell_type": "markdown",
   "id": "3MbyzpOQZ5Or",
   "metadata": {
    "id": "3MbyzpOQZ5Or"
   },
   "source": [
    "## Diccionario de datos\n",
    "\n",
    "Hay cinco tablas en el conjunto de datos, y tendrás que usarlas todas para hacer el preprocesamiento de datos y el análisis exploratorio de datos. A continuación se muestra un diccionario de datos que enumera las columnas de cada tabla y describe los datos que contienen.\n",
    "\n",
    "- `instacart_orders.csv`: cada fila corresponde a un pedido en la aplicación Instacart.\n",
    "    - `'order_id'`: número de ID que identifica de manera única cada pedido.\n",
    "    - `'user_id'`: número de ID que identifica de manera única la cuenta de cada cliente.\n",
    "    - `'order_number'`: el número de veces que este cliente ha hecho un pedido.\n",
    "    - `'order_dow'`: día de la semana en que se hizo el pedido (0 si es domingo).\n",
    "    - `'order_hour_of_day'`: hora del día en que se hizo el pedido.\n",
    "    - `'days_since_prior_order'`: número de días transcurridos desde que este cliente hizo su pedido anterior.\n",
    "- `products.csv`: cada fila corresponde a un producto único que pueden comprar los clientes.\n",
    "    - `'product_id'`: número ID que identifica de manera única cada producto.\n",
    "    - `'product_name'`: nombre del producto.\n",
    "    - `'aisle_id'`: número ID que identifica de manera única cada categoría de pasillo de víveres.\n",
    "    - `'department_id'`: número ID que identifica de manera única cada departamento de víveres.\n",
    "- `order_products.csv`: cada fila corresponde a un artículo pedido en un pedido.\n",
    "    - `'order_id'`: número de ID que identifica de manera única cada pedido.\n",
    "    - `'product_id'`: número ID que identifica de manera única cada producto.\n",
    "    - `'add_to_cart_order'`: el orden secuencial en el que se añadió cada artículo en el carrito.\n",
    "    - `'reordered'`: 0 si el cliente nunca ha pedido este producto antes, 1 si lo ha pedido.\n",
    "- `aisles.csv`\n",
    "    - `'aisle_id'`: número ID que identifica de manera única cada categoría de pasillo de víveres.\n",
    "    - `'aisle'`: nombre del pasillo.\n",
    "- `departments.csv`\n",
    "    - `'department_id'`: número ID que identifica de manera única cada departamento de víveres.\n",
    "    - `'department'`: nombre del departamento."
   ]
  },
  {
   "cell_type": "markdown",
   "id": "n3Ha_cNSZ8lK",
   "metadata": {
    "id": "n3Ha_cNSZ8lK"
   },
   "source": [
    "# Paso 1. Descripción de los datos\n",
    "\n",
    "Lee los archivos de datos (`/datasets/instacart_orders.csv`, `/datasets/products.csv`, `/datasets/aisles.csv`, `/datasets/departments.csv` y `/datasets/order_products.csv`) con `pd.read_csv()` usando los parámetros adecuados para leer los datos correctamente. Verifica la información para cada DataFrame creado.\n"
   ]
  },
  {
   "cell_type": "markdown",
   "id": "OmlQPLlyaAfR",
   "metadata": {
    "id": "OmlQPLlyaAfR"
   },
   "source": [
    "## Plan de solución\n",
    "\n",
    "Escribe aquí tu plan de solución para el Paso 1. Descripción de los datos."
   ]
  },
  {
   "cell_type": "code",
   "execution_count": 1,
   "id": "fbf1adab",
   "metadata": {
    "id": "fbf1adab"
   },
   "outputs": [],
   "source": [
    "# importar librerías\n",
    "import pandas as pd\n",
    "import numpy as np\n",
    "from matplotlib import pyplot as plt\n",
    "import seaborn as sb\n"
   ]
  },
  {
   "cell_type": "code",
   "execution_count": 2,
   "id": "ad36396d",
   "metadata": {
    "id": "ad36396d"
   },
   "outputs": [],
   "source": [
    "# leer conjuntos de datos en los DataFrames\n",
    "data = pd.read_csv('/datasets/instacart_orders.csv',sep=';')\n",
    "prod = pd.read_csv('/datasets/products.csv', sep=';')\n",
    "aisl = pd.read_csv('/datasets/aisles.csv', sep=';')\n",
    "depto = pd.read_csv('/datasets/departments.csv', sep=';')\n",
    "order = pd.read_csv('/datasets/order_products.csv', sep=';')\n"
   ]
  },
  {
   "cell_type": "code",
   "execution_count": 3,
   "id": "ad6a1efa",
   "metadata": {
    "id": "ad6a1efa"
   },
   "outputs": [
    {
     "name": "stdout",
     "output_type": "stream",
     "text": [
      "<class 'pandas.core.frame.DataFrame'>\n",
      "RangeIndex: 478967 entries, 0 to 478966\n",
      "Data columns (total 6 columns):\n",
      " #   Column                  Non-Null Count   Dtype  \n",
      "---  ------                  --------------   -----  \n",
      " 0   order_id                478967 non-null  int64  \n",
      " 1   user_id                 478967 non-null  int64  \n",
      " 2   order_number            478967 non-null  int64  \n",
      " 3   order_dow               478967 non-null  int64  \n",
      " 4   order_hour_of_day       478967 non-null  int64  \n",
      " 5   days_since_prior_order  450148 non-null  float64\n",
      "dtypes: float64(1), int64(5)\n",
      "memory usage: 21.9 MB\n"
     ]
    }
   ],
   "source": [
    "# mostrar información del DataFrame\n",
    "data.info()\n"
   ]
  },
  {
   "cell_type": "code",
   "execution_count": 4,
   "id": "5130e05e",
   "metadata": {
    "id": "5130e05e"
   },
   "outputs": [
    {
     "name": "stdout",
     "output_type": "stream",
     "text": [
      "<class 'pandas.core.frame.DataFrame'>\n",
      "RangeIndex: 49694 entries, 0 to 49693\n",
      "Data columns (total 4 columns):\n",
      " #   Column         Non-Null Count  Dtype \n",
      "---  ------         --------------  ----- \n",
      " 0   product_id     49694 non-null  int64 \n",
      " 1   product_name   48436 non-null  object\n",
      " 2   aisle_id       49694 non-null  int64 \n",
      " 3   department_id  49694 non-null  int64 \n",
      "dtypes: int64(3), object(1)\n",
      "memory usage: 1.5+ MB\n"
     ]
    }
   ],
   "source": [
    "# mostrar información del DataFrame\n",
    "prod.info()\n"
   ]
  },
  {
   "cell_type": "code",
   "execution_count": 5,
   "id": "d8370c05",
   "metadata": {
    "id": "d8370c05"
   },
   "outputs": [
    {
     "name": "stdout",
     "output_type": "stream",
     "text": [
      "<class 'pandas.core.frame.DataFrame'>\n",
      "RangeIndex: 134 entries, 0 to 133\n",
      "Data columns (total 2 columns):\n",
      " #   Column    Non-Null Count  Dtype \n",
      "---  ------    --------------  ----- \n",
      " 0   aisle_id  134 non-null    int64 \n",
      " 1   aisle     134 non-null    object\n",
      "dtypes: int64(1), object(1)\n",
      "memory usage: 2.2+ KB\n"
     ]
    }
   ],
   "source": [
    "# mostrar información del DataFrame\n",
    "aisl.info()\n"
   ]
  },
  {
   "cell_type": "code",
   "execution_count": 6,
   "id": "59e2090f",
   "metadata": {
    "id": "59e2090f"
   },
   "outputs": [
    {
     "name": "stdout",
     "output_type": "stream",
     "text": [
      "<class 'pandas.core.frame.DataFrame'>\n",
      "RangeIndex: 21 entries, 0 to 20\n",
      "Data columns (total 2 columns):\n",
      " #   Column         Non-Null Count  Dtype \n",
      "---  ------         --------------  ----- \n",
      " 0   department_id  21 non-null     int64 \n",
      " 1   department     21 non-null     object\n",
      "dtypes: int64(1), object(1)\n",
      "memory usage: 464.0+ bytes\n"
     ]
    }
   ],
   "source": [
    "# mostrar información del DataFrame\n",
    "depto.info()\n"
   ]
  },
  {
   "cell_type": "code",
   "execution_count": 7,
   "id": "6fc81694",
   "metadata": {
    "id": "6fc81694"
   },
   "outputs": [
    {
     "name": "stdout",
     "output_type": "stream",
     "text": [
      "<class 'pandas.core.frame.DataFrame'>\n",
      "RangeIndex: 4545007 entries, 0 to 4545006\n",
      "Data columns (total 4 columns):\n",
      " #   Column             Non-Null Count    Dtype  \n",
      "---  ------             --------------    -----  \n",
      " 0   order_id           4545007 non-null  int64  \n",
      " 1   product_id         4545007 non-null  int64  \n",
      " 2   add_to_cart_order  4544171 non-null  float64\n",
      " 3   reordered          4545007 non-null  int64  \n",
      "dtypes: float64(1), int64(3)\n",
      "memory usage: 138.7 MB\n"
     ]
    }
   ],
   "source": [
    "# mostrar información del DataFrame\n",
    "order.info(show_counts=True)\n"
   ]
  },
  {
   "cell_type": "markdown",
   "id": "t75BD19oaR5f",
   "metadata": {
    "id": "t75BD19oaR5f"
   },
   "source": [
    "## Conclusiones\n",
    "\n",
    "Leyendo los archivos podemos ver que se trata de archivos grandes, con muchisimos datos por procesar ya que la mayoria son enteros y vamos a necesitar manipularlos, asi como vamos a necesitar desarsernos de varios de algunos datos, ya sea elimandolos o rellandolos. #Escribe aquí tus conclusiones intermedias sobre el Paso 1. Descripción de los datos.\n"
   ]
  },
  {
   "cell_type": "markdown",
   "id": "8RJHqxVmaVsF",
   "metadata": {
    "id": "8RJHqxVmaVsF"
   },
   "source": [
    "# Paso 2. Preprocesamiento de los datos\n",
    "\n",
    "Preprocesa los datos de la siguiente manera:\n",
    "\n",
    "- Verifica y corrige los tipos de datos (por ejemplo, asegúrate de que las columnas de ID sean números enteros).\n",
    "- Identifica y completa los valores ausentes.\n",
    "- Identifica y elimina los valores duplicados.\n",
    "\n",
    "Asegúrate de explicar qué tipos de valores ausentes y duplicados encontraste, cómo los completaste o eliminaste y por qué usaste esos métodos. ¿Por qué crees que estos valores ausentes y duplicados pueden haber estado presentes en el conjunto de datos?"
   ]
  },
  {
   "cell_type": "code",
   "execution_count": null,
   "id": "9db882af",
   "metadata": {},
   "outputs": [],
   "source": []
  },
  {
   "cell_type": "markdown",
   "id": "p6poABZQaZYb",
   "metadata": {
    "id": "p6poABZQaZYb"
   },
   "source": [
    "## Plan de solución\n",
    "\n",
    "Mi plan para el procesamiento de datos es ir aplicando todas las formulas y opciones que nos ensenaron en el sprint asi como tambien utilizar la materia de sprints pasados para poder obtener todos los datos correctamente. #Escribe aquí tu plan para el Paso 2. Preprocesamiento de los datos."
   ]
  },
  {
   "cell_type": "markdown",
   "id": "07357848-dc64-4156-9cc3-01ff4365226d",
   "metadata": {
    "id": "07357848-dc64-4156-9cc3-01ff4365226d"
   },
   "source": [
    "## Encuentra y elimina los valores duplicados (y describe cómo tomaste tus decisiones)."
   ]
  },
  {
   "cell_type": "markdown",
   "id": "f179f0a9",
   "metadata": {
    "id": "f179f0a9"
   },
   "source": [
    "### `orders` data frame"
   ]
  },
  {
   "cell_type": "code",
   "execution_count": 8,
   "id": "b99297a5-405a-463d-8535-9adc3da4ad74",
   "metadata": {
    "id": "b99297a5-405a-463d-8535-9adc3da4ad74"
   },
   "outputs": [
    {
     "name": "stdout",
     "output_type": "stream",
     "text": [
      "        order_id  user_id  order_number  order_dow  order_hour_of_day  \\\n",
      "145574    794638    50898            24          3                  2   \n",
      "223105   2160484   107525            16          3                  2   \n",
      "230807   1918001   188546            14          3                  2   \n",
      "266232   1782114   106752             1          3                  2   \n",
      "273805   1112182   202304            84          3                  2   \n",
      "284038   2845099    31189            11          3                  2   \n",
      "311713   1021560    53767             3          3                  2   \n",
      "321100    408114    68324             4          3                  2   \n",
      "323900   1919531   191501            32          3                  2   \n",
      "345917   2232988    82565             1          3                  2   \n",
      "371905    391768    57671            19          3                  2   \n",
      "394347    467134    63189            21          3                  2   \n",
      "411408   1286742   183220            48          3                  2   \n",
      "415163   2282673    86751            49          3                  2   \n",
      "441599   2125197    14050            48          3                  2   \n",
      "\n",
      "        days_since_prior_order  \n",
      "145574                     2.0  \n",
      "223105                    30.0  \n",
      "230807                    16.0  \n",
      "266232                     NaN  \n",
      "273805                     6.0  \n",
      "284038                     7.0  \n",
      "311713                     9.0  \n",
      "321100                    18.0  \n",
      "323900                     7.0  \n",
      "345917                     NaN  \n",
      "371905                    10.0  \n",
      "394347                     2.0  \n",
      "411408                     4.0  \n",
      "415163                     2.0  \n",
      "441599                     3.0  \n"
     ]
    }
   ],
   "source": [
    "# Revisa si hay pedidos duplicados\n",
    "data.duplicated().sum()\n",
    "print(data[data.duplicated()])"
   ]
  },
  {
   "cell_type": "markdown",
   "id": "PEkwUX_gvt5A",
   "metadata": {
    "id": "PEkwUX_gvt5A"
   },
   "source": [
    "Si, tenemos lineas duplicadas, son 15 en total y lo que tienen en comun es que todas fueron hechas el miercoles a las 2 am #¿Tienes líneas duplicadas? Si sí, ¿qué tienen en común?"
   ]
  },
  {
   "cell_type": "code",
   "execution_count": 9,
   "id": "0d44de5d",
   "metadata": {
    "id": "0d44de5d"
   },
   "outputs": [
    {
     "data": {
      "text/html": [
       "<div>\n",
       "<style scoped>\n",
       "    .dataframe tbody tr th:only-of-type {\n",
       "        vertical-align: middle;\n",
       "    }\n",
       "\n",
       "    .dataframe tbody tr th {\n",
       "        vertical-align: top;\n",
       "    }\n",
       "\n",
       "    .dataframe thead th {\n",
       "        text-align: right;\n",
       "    }\n",
       "</style>\n",
       "<table border=\"1\" class=\"dataframe\">\n",
       "  <thead>\n",
       "    <tr style=\"text-align: right;\">\n",
       "      <th></th>\n",
       "      <th>order_id</th>\n",
       "      <th>user_id</th>\n",
       "      <th>order_number</th>\n",
       "      <th>order_dow</th>\n",
       "      <th>order_hour_of_day</th>\n",
       "      <th>days_since_prior_order</th>\n",
       "    </tr>\n",
       "  </thead>\n",
       "  <tbody>\n",
       "    <tr>\n",
       "      <th>4838</th>\n",
       "      <td>2766110</td>\n",
       "      <td>162084</td>\n",
       "      <td>41</td>\n",
       "      <td>3</td>\n",
       "      <td>2</td>\n",
       "      <td>16.0</td>\n",
       "    </tr>\n",
       "    <tr>\n",
       "      <th>5156</th>\n",
       "      <td>2190225</td>\n",
       "      <td>138285</td>\n",
       "      <td>18</td>\n",
       "      <td>3</td>\n",
       "      <td>2</td>\n",
       "      <td>11.0</td>\n",
       "    </tr>\n",
       "    <tr>\n",
       "      <th>15506</th>\n",
       "      <td>553049</td>\n",
       "      <td>58599</td>\n",
       "      <td>13</td>\n",
       "      <td>3</td>\n",
       "      <td>2</td>\n",
       "      <td>7.0</td>\n",
       "    </tr>\n",
       "    <tr>\n",
       "      <th>18420</th>\n",
       "      <td>382357</td>\n",
       "      <td>120200</td>\n",
       "      <td>19</td>\n",
       "      <td>3</td>\n",
       "      <td>2</td>\n",
       "      <td>11.0</td>\n",
       "    </tr>\n",
       "    <tr>\n",
       "      <th>24691</th>\n",
       "      <td>690242</td>\n",
       "      <td>77357</td>\n",
       "      <td>2</td>\n",
       "      <td>3</td>\n",
       "      <td>2</td>\n",
       "      <td>9.0</td>\n",
       "    </tr>\n",
       "    <tr>\n",
       "      <th>...</th>\n",
       "      <td>...</td>\n",
       "      <td>...</td>\n",
       "      <td>...</td>\n",
       "      <td>...</td>\n",
       "      <td>...</td>\n",
       "      <td>...</td>\n",
       "    </tr>\n",
       "    <tr>\n",
       "      <th>457013</th>\n",
       "      <td>3384021</td>\n",
       "      <td>14881</td>\n",
       "      <td>6</td>\n",
       "      <td>3</td>\n",
       "      <td>2</td>\n",
       "      <td>30.0</td>\n",
       "    </tr>\n",
       "    <tr>\n",
       "      <th>458816</th>\n",
       "      <td>910166</td>\n",
       "      <td>164782</td>\n",
       "      <td>18</td>\n",
       "      <td>3</td>\n",
       "      <td>2</td>\n",
       "      <td>4.0</td>\n",
       "    </tr>\n",
       "    <tr>\n",
       "      <th>459635</th>\n",
       "      <td>1680532</td>\n",
       "      <td>106435</td>\n",
       "      <td>6</td>\n",
       "      <td>3</td>\n",
       "      <td>2</td>\n",
       "      <td>21.0</td>\n",
       "    </tr>\n",
       "    <tr>\n",
       "      <th>468324</th>\n",
       "      <td>222962</td>\n",
       "      <td>54979</td>\n",
       "      <td>59</td>\n",
       "      <td>3</td>\n",
       "      <td>2</td>\n",
       "      <td>3.0</td>\n",
       "    </tr>\n",
       "    <tr>\n",
       "      <th>477526</th>\n",
       "      <td>2592344</td>\n",
       "      <td>46860</td>\n",
       "      <td>38</td>\n",
       "      <td>3</td>\n",
       "      <td>2</td>\n",
       "      <td>3.0</td>\n",
       "    </tr>\n",
       "  </tbody>\n",
       "</table>\n",
       "<p>121 rows × 6 columns</p>\n",
       "</div>"
      ],
      "text/plain": [
       "        order_id  user_id  order_number  order_dow  order_hour_of_day  \\\n",
       "4838     2766110   162084            41          3                  2   \n",
       "5156     2190225   138285            18          3                  2   \n",
       "15506     553049    58599            13          3                  2   \n",
       "18420     382357   120200            19          3                  2   \n",
       "24691     690242    77357             2          3                  2   \n",
       "...          ...      ...           ...        ...                ...   \n",
       "457013   3384021    14881             6          3                  2   \n",
       "458816    910166   164782            18          3                  2   \n",
       "459635   1680532   106435             6          3                  2   \n",
       "468324    222962    54979            59          3                  2   \n",
       "477526   2592344    46860            38          3                  2   \n",
       "\n",
       "        days_since_prior_order  \n",
       "4838                      16.0  \n",
       "5156                      11.0  \n",
       "15506                      7.0  \n",
       "18420                     11.0  \n",
       "24691                      9.0  \n",
       "...                        ...  \n",
       "457013                    30.0  \n",
       "458816                     4.0  \n",
       "459635                    21.0  \n",
       "468324                     3.0  \n",
       "477526                     3.0  \n",
       "\n",
       "[121 rows x 6 columns]"
      ]
     },
     "execution_count": 9,
     "metadata": {},
     "output_type": "execute_result"
    }
   ],
   "source": [
    "# Basándote en tus hallazgos,\n",
    "# Verifica todos los pedidos que se hicieron el miércoles a las 2:00 a.m.\n",
    "data[(data['order_dow']==3) & (data['order_hour_of_day'] == 2)]"
   ]
  },
  {
   "cell_type": "markdown",
   "id": "vu2OWyoqwOx5",
   "metadata": {
    "id": "vu2OWyoqwOx5"
   },
   "source": [
    "Tenemos 121 filas en donde hay solo 15 duplicadas el miercoles a las 2am, lo que quiere decir que pudo ser un simple error del sistema.#¿Qué sugiere este resultado?"
   ]
  },
  {
   "cell_type": "code",
   "execution_count": 59,
   "id": "480563c7",
   "metadata": {
    "id": "480563c7"
   },
   "outputs": [
    {
     "name": "stdout",
     "output_type": "stream",
     "text": [
      "         index  order_id  user_id  order_number  order_dow  order_hour_of_day  \\\n",
      "0            0   1515936   183418            11          6                 13   \n",
      "1            1   1690866   163593             5          5                 12   \n",
      "2            2   1454967    39980             4          5                 19   \n",
      "3            3   1768857    82516            56          0                 20   \n",
      "4            4   3007858   196724             2          4                 12   \n",
      "...        ...       ...      ...           ...        ...                ...   \n",
      "478947  478962   3210681     5617             5          1                 14   \n",
      "478948  478963   3270802   112087             2          3                 13   \n",
      "478949  478964    885349    82944            16          2                 11   \n",
      "478950  478965    216274     4391             3          3                  8   \n",
      "478951  478966   2071924     1730            18          1                 14   \n",
      "\n",
      "        days_since_prior_order  \n",
      "0                         30.0  \n",
      "1                          9.0  \n",
      "2                          2.0  \n",
      "3                         10.0  \n",
      "4                         17.0  \n",
      "...                        ...  \n",
      "478947                     7.0  \n",
      "478948                     6.0  \n",
      "478949                     6.0  \n",
      "478950                     8.0  \n",
      "478951                    15.0  \n",
      "\n",
      "[478952 rows x 7 columns]\n"
     ]
    }
   ],
   "source": [
    "# Elimina los pedidos duplicados\n",
    "data = data.drop_duplicates().reset_index(drop=True)\n",
    "print(sin_duplicados)"
   ]
  },
  {
   "cell_type": "code",
   "execution_count": 11,
   "id": "0b2396a2",
   "metadata": {
    "id": "0b2396a2"
   },
   "outputs": [
    {
     "data": {
      "text/plain": [
       "15"
      ]
     },
     "execution_count": 11,
     "metadata": {},
     "output_type": "execute_result"
    }
   ],
   "source": [
    "# Vuelve a verificar si hay filas duplicadas\n",
    "data.duplicated().sum()"
   ]
  },
  {
   "cell_type": "code",
   "execution_count": 12,
   "id": "f6113ef1",
   "metadata": {
    "id": "f6113ef1"
   },
   "outputs": [
    {
     "data": {
      "text/plain": [
       "15"
      ]
     },
     "execution_count": 12,
     "metadata": {},
     "output_type": "execute_result"
    }
   ],
   "source": [
    "# Vuelve a verificar únicamente si hay IDs duplicados de pedidos\n",
    "data['order_id'].duplicated().sum()"
   ]
  },
  {
   "cell_type": "markdown",
   "id": "5e8905ae",
   "metadata": {
    "id": "5e8905ae"
   },
   "source": [
    "Se puede ver que los 15 duplicados que todavia tenemos corresponden a la columna de order id porque ya se habian eliminado previamente los duplicados que teniamos el miercoles a las 2am. \n",
    "#Describe brevemente tus hallazgos y lo que hiciste con ellos"
   ]
  },
  {
   "cell_type": "markdown",
   "id": "45e6bc46",
   "metadata": {
    "id": "45e6bc46"
   },
   "source": [
    "### `products` data frame"
   ]
  },
  {
   "cell_type": "code",
   "execution_count": 13,
   "id": "5f526b5b-8175-46fa-a0fd-441767d50e64",
   "metadata": {
    "id": "5f526b5b-8175-46fa-a0fd-441767d50e64"
   },
   "outputs": [
    {
     "data": {
      "text/plain": [
       "0"
      ]
     },
     "execution_count": 13,
     "metadata": {},
     "output_type": "execute_result"
    }
   ],
   "source": [
    "# Verifica si hay filas totalmente duplicadas\n",
    "prod.duplicated().sum()"
   ]
  },
  {
   "cell_type": "code",
   "execution_count": 14,
   "id": "88daa4f4",
   "metadata": {
    "id": "88daa4f4"
   },
   "outputs": [
    {
     "data": {
      "text/plain": [
       "0"
      ]
     },
     "execution_count": 14,
     "metadata": {},
     "output_type": "execute_result"
    }
   ],
   "source": [
    "# Verifica únicamente si hay IDs duplicadas de productos\n",
    "prod['product_id'].duplicated().sum()"
   ]
  },
  {
   "cell_type": "code",
   "execution_count": 15,
   "id": "c773f0bf",
   "metadata": {
    "id": "c773f0bf"
   },
   "outputs": [
    {
     "name": "stdout",
     "output_type": "stream",
     "text": [
      "       product_id                                     product_name  aisle_id  \\\n",
      "71             72                                              NaN       100   \n",
      "109           110                                              NaN       100   \n",
      "296           297                                              NaN       100   \n",
      "416           417                                              NaN       100   \n",
      "436           437                                              NaN       100   \n",
      "...           ...                                              ...       ...   \n",
      "49689       49690                    HIGH PERFORMANCE ENERGY DRINK        64   \n",
      "49690       49691                    ORIGINAL PANCAKE & WAFFLE MIX       130   \n",
      "49691       49692  ORGANIC INSTANT OATMEAL LIGHT MAPLE BROWN SUGAR       130   \n",
      "49692       49693                           SPRING WATER BODY WASH       127   \n",
      "49693       49694                          BURRITO- STEAK & CHEESE        38   \n",
      "\n",
      "       department_id  \n",
      "71                21  \n",
      "109               21  \n",
      "296               21  \n",
      "416               21  \n",
      "436               21  \n",
      "...              ...  \n",
      "49689              7  \n",
      "49690             14  \n",
      "49691             14  \n",
      "49692             11  \n",
      "49693              1  \n",
      "\n",
      "[1361 rows x 4 columns]\n"
     ]
    }
   ],
   "source": [
    "# Revisa únicamente si hay nombres duplicados de productos (convierte los nombres a letras mayúsculas para compararlos mejor)\n",
    "prod['product_name']=prod['product_name'].str.upper()\n",
    "print(prod[prod.duplicated(subset= 'product_name')])"
   ]
  },
  {
   "cell_type": "code",
   "execution_count": 16,
   "id": "01efd02e",
   "metadata": {
    "id": "01efd02e"
   },
   "outputs": [
    {
     "data": {
      "text/html": [
       "<div>\n",
       "<style scoped>\n",
       "    .dataframe tbody tr th:only-of-type {\n",
       "        vertical-align: middle;\n",
       "    }\n",
       "\n",
       "    .dataframe tbody tr th {\n",
       "        vertical-align: top;\n",
       "    }\n",
       "\n",
       "    .dataframe thead th {\n",
       "        text-align: right;\n",
       "    }\n",
       "</style>\n",
       "<table border=\"1\" class=\"dataframe\">\n",
       "  <thead>\n",
       "    <tr style=\"text-align: right;\">\n",
       "      <th></th>\n",
       "      <th>product_id</th>\n",
       "      <th>product_name</th>\n",
       "      <th>aisle_id</th>\n",
       "      <th>department_id</th>\n",
       "    </tr>\n",
       "  </thead>\n",
       "  <tbody>\n",
       "    <tr>\n",
       "      <th>2058</th>\n",
       "      <td>2059</td>\n",
       "      <td>BIOTIN 1000 MCG</td>\n",
       "      <td>47</td>\n",
       "      <td>11</td>\n",
       "    </tr>\n",
       "    <tr>\n",
       "      <th>5455</th>\n",
       "      <td>5456</td>\n",
       "      <td>GREEN TEA WITH GINSENG AND HONEY</td>\n",
       "      <td>96</td>\n",
       "      <td>20</td>\n",
       "    </tr>\n",
       "    <tr>\n",
       "      <th>5558</th>\n",
       "      <td>5559</td>\n",
       "      <td>CREAM OF MUSHROOM SOUP</td>\n",
       "      <td>69</td>\n",
       "      <td>15</td>\n",
       "    </tr>\n",
       "    <tr>\n",
       "      <th>7558</th>\n",
       "      <td>7559</td>\n",
       "      <td>CINNAMON ROLLS WITH ICING</td>\n",
       "      <td>105</td>\n",
       "      <td>13</td>\n",
       "    </tr>\n",
       "    <tr>\n",
       "      <th>9037</th>\n",
       "      <td>9038</td>\n",
       "      <td>AMERICAN CHEESE SLICES</td>\n",
       "      <td>21</td>\n",
       "      <td>16</td>\n",
       "    </tr>\n",
       "    <tr>\n",
       "      <th>...</th>\n",
       "      <td>...</td>\n",
       "      <td>...</td>\n",
       "      <td>...</td>\n",
       "      <td>...</td>\n",
       "    </tr>\n",
       "    <tr>\n",
       "      <th>49689</th>\n",
       "      <td>49690</td>\n",
       "      <td>HIGH PERFORMANCE ENERGY DRINK</td>\n",
       "      <td>64</td>\n",
       "      <td>7</td>\n",
       "    </tr>\n",
       "    <tr>\n",
       "      <th>49690</th>\n",
       "      <td>49691</td>\n",
       "      <td>ORIGINAL PANCAKE &amp; WAFFLE MIX</td>\n",
       "      <td>130</td>\n",
       "      <td>14</td>\n",
       "    </tr>\n",
       "    <tr>\n",
       "      <th>49691</th>\n",
       "      <td>49692</td>\n",
       "      <td>ORGANIC INSTANT OATMEAL LIGHT MAPLE BROWN SUGAR</td>\n",
       "      <td>130</td>\n",
       "      <td>14</td>\n",
       "    </tr>\n",
       "    <tr>\n",
       "      <th>49692</th>\n",
       "      <td>49693</td>\n",
       "      <td>SPRING WATER BODY WASH</td>\n",
       "      <td>127</td>\n",
       "      <td>11</td>\n",
       "    </tr>\n",
       "    <tr>\n",
       "      <th>49693</th>\n",
       "      <td>49694</td>\n",
       "      <td>BURRITO- STEAK &amp; CHEESE</td>\n",
       "      <td>38</td>\n",
       "      <td>1</td>\n",
       "    </tr>\n",
       "  </tbody>\n",
       "</table>\n",
       "<p>104 rows × 4 columns</p>\n",
       "</div>"
      ],
      "text/plain": [
       "       product_id                                     product_name  aisle_id  \\\n",
       "2058         2059                                  BIOTIN 1000 MCG        47   \n",
       "5455         5456                 GREEN TEA WITH GINSENG AND HONEY        96   \n",
       "5558         5559                           CREAM OF MUSHROOM SOUP        69   \n",
       "7558         7559                        CINNAMON ROLLS WITH ICING       105   \n",
       "9037         9038                           AMERICAN CHEESE SLICES        21   \n",
       "...           ...                                              ...       ...   \n",
       "49689       49690                    HIGH PERFORMANCE ENERGY DRINK        64   \n",
       "49690       49691                    ORIGINAL PANCAKE & WAFFLE MIX       130   \n",
       "49691       49692  ORGANIC INSTANT OATMEAL LIGHT MAPLE BROWN SUGAR       130   \n",
       "49692       49693                           SPRING WATER BODY WASH       127   \n",
       "49693       49694                          BURRITO- STEAK & CHEESE        38   \n",
       "\n",
       "       department_id  \n",
       "2058              11  \n",
       "5455              20  \n",
       "5558              15  \n",
       "7558              13  \n",
       "9037              16  \n",
       "...              ...  \n",
       "49689              7  \n",
       "49690             14  \n",
       "49691             14  \n",
       "49692             11  \n",
       "49693              1  \n",
       "\n",
       "[104 rows x 4 columns]"
      ]
     },
     "execution_count": 16,
     "metadata": {},
     "output_type": "execute_result"
    }
   ],
   "source": [
    "# Revisa si hay nombres duplicados de productos no faltantes\n",
    "\n",
    "prod[(~prod['product_name'].isna())&(prod['product_name'].duplicated())]\n"
   ]
  },
  {
   "cell_type": "markdown",
   "id": "9da8d293",
   "metadata": {
    "id": "9da8d293"
   },
   "source": [
    "Podemos ver que si hay nombres duplicados de productos en varios departamentos #Describe brevemente tus hallazgos y lo que hiciste con ellos."
   ]
  },
  {
   "cell_type": "markdown",
   "id": "60f30db1",
   "metadata": {
    "id": "60f30db1"
   },
   "source": [
    "### `departments` data frame"
   ]
  },
  {
   "cell_type": "code",
   "execution_count": 17,
   "id": "fb410ad4-0fbf-4b80-bb09-23fdea79afe3",
   "metadata": {
    "id": "fb410ad4-0fbf-4b80-bb09-23fdea79afe3"
   },
   "outputs": [
    {
     "data": {
      "text/plain": [
       "0"
      ]
     },
     "execution_count": 17,
     "metadata": {},
     "output_type": "execute_result"
    }
   ],
   "source": [
    "# Revisa si hay filas totalmente duplicadas\n",
    "depto.duplicated().sum()"
   ]
  },
  {
   "cell_type": "code",
   "execution_count": 18,
   "id": "332b12bb",
   "metadata": {
    "id": "332b12bb"
   },
   "outputs": [
    {
     "data": {
      "text/plain": [
       "0"
      ]
     },
     "execution_count": 18,
     "metadata": {},
     "output_type": "execute_result"
    }
   ],
   "source": [
    "# Revisa únicamente si hay IDs duplicadas de productos\n",
    "depto['department_id'].duplicated().sum()"
   ]
  },
  {
   "cell_type": "markdown",
   "id": "bd30d78e",
   "metadata": {
    "id": "bd30d78e"
   },
   "source": [
    "En el dataframe de departamentos no tenemos ningun valor duplicado. #Describe brevemente tus hallazgos y lo que hiciste con ellos."
   ]
  },
  {
   "cell_type": "markdown",
   "id": "889349c1",
   "metadata": {
    "id": "889349c1"
   },
   "source": [
    "### `aisles` data frame"
   ]
  },
  {
   "cell_type": "code",
   "execution_count": 19,
   "id": "9da89fb9-4679-40f5-ad0d-c34df753a3f8",
   "metadata": {
    "id": "9da89fb9-4679-40f5-ad0d-c34df753a3f8"
   },
   "outputs": [
    {
     "data": {
      "text/plain": [
       "0"
      ]
     },
     "execution_count": 19,
     "metadata": {},
     "output_type": "execute_result"
    }
   ],
   "source": [
    "# Revisa si hay filas totalmente duplicadas\n",
    "aisl.duplicated().sum()"
   ]
  },
  {
   "cell_type": "code",
   "execution_count": 20,
   "id": "da7c2822",
   "metadata": {
    "id": "da7c2822"
   },
   "outputs": [
    {
     "data": {
      "text/plain": [
       "0"
      ]
     },
     "execution_count": 20,
     "metadata": {},
     "output_type": "execute_result"
    }
   ],
   "source": [
    "# Revisa únicamente si hay IDs duplicadas de productos\n",
    "aisl['aisle_id'].duplicated().sum()"
   ]
  },
  {
   "cell_type": "markdown",
   "id": "ac63826f",
   "metadata": {
    "id": "ac63826f"
   },
   "source": [
    "Tampoco tenemos filas duplicadas en el dataframe de aisle, lo que nos quiere decir que si contamos con un ID diferente por cada pasillo de la aplicacion. \n",
    "#Describe brevemente tus hallazgos y lo que hiciste con ellos."
   ]
  },
  {
   "cell_type": "markdown",
   "id": "274cd06a",
   "metadata": {
    "id": "274cd06a"
   },
   "source": [
    "### `order_products` data frame"
   ]
  },
  {
   "cell_type": "code",
   "execution_count": 21,
   "id": "52326689-84a8-4b8f-a881-7c68780f62c9",
   "metadata": {
    "id": "52326689-84a8-4b8f-a881-7c68780f62c9"
   },
   "outputs": [
    {
     "data": {
      "text/plain": [
       "0"
      ]
     },
     "execution_count": 21,
     "metadata": {},
     "output_type": "execute_result"
    }
   ],
   "source": [
    "# Revisa si hay filas totalmente duplicadas\n",
    "order.duplicated().sum()"
   ]
  },
  {
   "cell_type": "code",
   "execution_count": 22,
   "id": "7b861391",
   "metadata": {
    "id": "7b861391"
   },
   "outputs": [
    {
     "data": {
      "text/html": [
       "<div>\n",
       "<style scoped>\n",
       "    .dataframe tbody tr th:only-of-type {\n",
       "        vertical-align: middle;\n",
       "    }\n",
       "\n",
       "    .dataframe tbody tr th {\n",
       "        vertical-align: top;\n",
       "    }\n",
       "\n",
       "    .dataframe thead th {\n",
       "        text-align: right;\n",
       "    }\n",
       "</style>\n",
       "<table border=\"1\" class=\"dataframe\">\n",
       "  <thead>\n",
       "    <tr style=\"text-align: right;\">\n",
       "      <th></th>\n",
       "      <th>order_id</th>\n",
       "      <th>product_id</th>\n",
       "      <th>add_to_cart_order</th>\n",
       "      <th>reordered</th>\n",
       "    </tr>\n",
       "  </thead>\n",
       "  <tbody>\n",
       "    <tr>\n",
       "      <th>367</th>\n",
       "      <td>2867619</td>\n",
       "      <td>48094</td>\n",
       "      <td>9.0</td>\n",
       "      <td>0</td>\n",
       "    </tr>\n",
       "    <tr>\n",
       "      <th>824</th>\n",
       "      <td>844425</td>\n",
       "      <td>39408</td>\n",
       "      <td>10.0</td>\n",
       "      <td>1</td>\n",
       "    </tr>\n",
       "    <tr>\n",
       "      <th>1124</th>\n",
       "      <td>3319857</td>\n",
       "      <td>37067</td>\n",
       "      <td>19.0</td>\n",
       "      <td>0</td>\n",
       "    </tr>\n",
       "    <tr>\n",
       "      <th>1258</th>\n",
       "      <td>1038788</td>\n",
       "      <td>12471</td>\n",
       "      <td>14.0</td>\n",
       "      <td>0</td>\n",
       "    </tr>\n",
       "    <tr>\n",
       "      <th>1303</th>\n",
       "      <td>2825714</td>\n",
       "      <td>44632</td>\n",
       "      <td>16.0</td>\n",
       "      <td>1</td>\n",
       "    </tr>\n",
       "    <tr>\n",
       "      <th>...</th>\n",
       "      <td>...</td>\n",
       "      <td>...</td>\n",
       "      <td>...</td>\n",
       "      <td>...</td>\n",
       "    </tr>\n",
       "    <tr>\n",
       "      <th>4545002</th>\n",
       "      <td>577211</td>\n",
       "      <td>15290</td>\n",
       "      <td>12.0</td>\n",
       "      <td>1</td>\n",
       "    </tr>\n",
       "    <tr>\n",
       "      <th>4545003</th>\n",
       "      <td>1219554</td>\n",
       "      <td>21914</td>\n",
       "      <td>9.0</td>\n",
       "      <td>0</td>\n",
       "    </tr>\n",
       "    <tr>\n",
       "      <th>4545004</th>\n",
       "      <td>692640</td>\n",
       "      <td>47766</td>\n",
       "      <td>4.0</td>\n",
       "      <td>1</td>\n",
       "    </tr>\n",
       "    <tr>\n",
       "      <th>4545005</th>\n",
       "      <td>319435</td>\n",
       "      <td>691</td>\n",
       "      <td>8.0</td>\n",
       "      <td>1</td>\n",
       "    </tr>\n",
       "    <tr>\n",
       "      <th>4545006</th>\n",
       "      <td>1398151</td>\n",
       "      <td>28733</td>\n",
       "      <td>9.0</td>\n",
       "      <td>0</td>\n",
       "    </tr>\n",
       "  </tbody>\n",
       "</table>\n",
       "<p>4094961 rows × 4 columns</p>\n",
       "</div>"
      ],
      "text/plain": [
       "         order_id  product_id  add_to_cart_order  reordered\n",
       "367       2867619       48094                9.0          0\n",
       "824        844425       39408               10.0          1\n",
       "1124      3319857       37067               19.0          0\n",
       "1258      1038788       12471               14.0          0\n",
       "1303      2825714       44632               16.0          1\n",
       "...           ...         ...                ...        ...\n",
       "4545002    577211       15290               12.0          1\n",
       "4545003   1219554       21914                9.0          0\n",
       "4545004    692640       47766                4.0          1\n",
       "4545005    319435         691                8.0          1\n",
       "4545006   1398151       28733                9.0          0\n",
       "\n",
       "[4094961 rows x 4 columns]"
      ]
     },
     "execution_count": 22,
     "metadata": {},
     "output_type": "execute_result"
    }
   ],
   "source": [
    "# Vuelve a verificar si hay cualquier otro duplicado engañoso\n",
    "order[order.duplicated(subset= 'order_id')]\n"
   ]
  },
  {
   "cell_type": "markdown",
   "id": "0b890492",
   "metadata": {
    "id": "0b890492"
   },
   "source": [
    "En el dataframe de order podemos ver que no hay ningun valor duplicado.\n",
    "#Describe brevemente tus hallazgos y lo que hiciste con ellos."
   ]
  },
  {
   "cell_type": "markdown",
   "id": "1e46de76",
   "metadata": {
    "id": "1e46de76"
   },
   "source": [
    "## Encuentra y elimina los valores ausentes\n",
    "\n",
    "Al trabajar con valores duplicados, pudimos observar que también nos falta investigar valores ausentes:\n",
    "\n",
    "* La columna `'product_name'` de la tabla products.\n",
    "* La columna `'days_since_prior_order'` de la tabla orders.\n",
    "* La columna `'add_to_cart_order'` de la tabla order_productos."
   ]
  },
  {
   "cell_type": "markdown",
   "id": "c0aebd78",
   "metadata": {
    "id": "c0aebd78"
   },
   "source": [
    "### `products` data frame"
   ]
  },
  {
   "cell_type": "code",
   "execution_count": 23,
   "id": "fe4a8b0f",
   "metadata": {
    "id": "fe4a8b0f"
   },
   "outputs": [
    {
     "name": "stdout",
     "output_type": "stream",
     "text": [
      "NaN                                                         1258\n",
      "GREEN TEA WITH GINSENG AND HONEY                               3\n",
      "ORIGINAL CHILI CON CARNE WITH BEANS                            2\n",
      "TOP THE TATER CHIVE & ONION SOUR CREAM                         2\n",
      "POTATOES O'BRIEN WITH ONIONS AND PEPPERS                       2\n",
      "                                                            ... \n",
      "MANGO SUPER PROTEIN SMOOTHIE                                   1\n",
      "ORGANIC RICE VEGETABLE TWISTS PASTA                            1\n",
      "SENSITIVE FACIAL CLEANSER                                      1\n",
      "MEDIUM ROAST EXTRA BOLD DECAFFEINATED K CUP COFFEE PACKS       1\n",
      "100% JUICE NO SUGAR ADDED FRUIT PUNCH                          1\n",
      "Name: product_name, Length: 48333, dtype: int64\n"
     ]
    }
   ],
   "source": [
    "# Encuentra los valores ausentes en la columna 'product_name'\n",
    "print(prod['product_name'].value_counts(dropna=False))\n"
   ]
  },
  {
   "cell_type": "markdown",
   "id": "-A6x1AbJhjkp",
   "metadata": {
    "id": "-A6x1AbJhjkp"
   },
   "source": [
    "Encontramos que tenemos una gran cantidad de productos y que la mayoria aparece solo una vez aunque tambien encontramos 1258 NaNs en esa columna pero comparado a la cantidad de datos que tenemos ahi, no representa tanto del procentaje.  #Describe brevemente cuáles son tus hallazgos."
   ]
  },
  {
   "cell_type": "code",
   "execution_count": 24,
   "id": "e96167bc",
   "metadata": {
    "id": "e96167bc"
   },
   "outputs": [
    {
     "name": "stdout",
     "output_type": "stream",
     "text": [
      "       product_id product_name  aisle_id  department_id\n",
      "37             38          NaN       100             21\n",
      "71             72          NaN       100             21\n",
      "109           110          NaN       100             21\n",
      "296           297          NaN       100             21\n",
      "416           417          NaN       100             21\n",
      "...           ...          ...       ...            ...\n",
      "49552       49553          NaN       100             21\n",
      "49574       49575          NaN       100             21\n",
      "49640       49641          NaN       100             21\n",
      "49663       49664          NaN       100             21\n",
      "49668       49669          NaN       100             21\n",
      "\n",
      "[1258 rows x 4 columns]\n"
     ]
    }
   ],
   "source": [
    "#  ¿Todos los nombres de productos ausentes están relacionados con el pasillo con ID 100?\n",
    "pasillo = prod[(prod['product_name'].isna()) & (prod['aisle_id'] == 100)]\n",
    "print(pasillo)"
   ]
  },
  {
   "cell_type": "markdown",
   "id": "WRpIfXRphpSL",
   "metadata": {
    "id": "WRpIfXRphpSL"
   },
   "source": [
    "Aca podemos ver que si, todos los productos faltantes tiene que ver con el pasillo 100 por lo que debe haber algo mal ahi, tal vez alguien elimino todos los productos o tal vez solo hay un pasillo de mas que deberia ser eliminado. #Describe brevemente cuáles son tus hallazgos."
   ]
  },
  {
   "cell_type": "code",
   "execution_count": 25,
   "id": "8fd0a541",
   "metadata": {
    "id": "8fd0a541"
   },
   "outputs": [
    {
     "data": {
      "text/html": [
       "<div>\n",
       "<style scoped>\n",
       "    .dataframe tbody tr th:only-of-type {\n",
       "        vertical-align: middle;\n",
       "    }\n",
       "\n",
       "    .dataframe tbody tr th {\n",
       "        vertical-align: top;\n",
       "    }\n",
       "\n",
       "    .dataframe thead th {\n",
       "        text-align: right;\n",
       "    }\n",
       "</style>\n",
       "<table border=\"1\" class=\"dataframe\">\n",
       "  <thead>\n",
       "    <tr style=\"text-align: right;\">\n",
       "      <th></th>\n",
       "      <th>product_id</th>\n",
       "      <th>product_name</th>\n",
       "      <th>aisle_id</th>\n",
       "      <th>department_id</th>\n",
       "    </tr>\n",
       "  </thead>\n",
       "  <tbody>\n",
       "    <tr>\n",
       "      <th>37</th>\n",
       "      <td>38</td>\n",
       "      <td>NaN</td>\n",
       "      <td>100</td>\n",
       "      <td>21</td>\n",
       "    </tr>\n",
       "    <tr>\n",
       "      <th>71</th>\n",
       "      <td>72</td>\n",
       "      <td>NaN</td>\n",
       "      <td>100</td>\n",
       "      <td>21</td>\n",
       "    </tr>\n",
       "    <tr>\n",
       "      <th>109</th>\n",
       "      <td>110</td>\n",
       "      <td>NaN</td>\n",
       "      <td>100</td>\n",
       "      <td>21</td>\n",
       "    </tr>\n",
       "    <tr>\n",
       "      <th>296</th>\n",
       "      <td>297</td>\n",
       "      <td>NaN</td>\n",
       "      <td>100</td>\n",
       "      <td>21</td>\n",
       "    </tr>\n",
       "    <tr>\n",
       "      <th>416</th>\n",
       "      <td>417</td>\n",
       "      <td>NaN</td>\n",
       "      <td>100</td>\n",
       "      <td>21</td>\n",
       "    </tr>\n",
       "    <tr>\n",
       "      <th>...</th>\n",
       "      <td>...</td>\n",
       "      <td>...</td>\n",
       "      <td>...</td>\n",
       "      <td>...</td>\n",
       "    </tr>\n",
       "    <tr>\n",
       "      <th>49552</th>\n",
       "      <td>49553</td>\n",
       "      <td>NaN</td>\n",
       "      <td>100</td>\n",
       "      <td>21</td>\n",
       "    </tr>\n",
       "    <tr>\n",
       "      <th>49574</th>\n",
       "      <td>49575</td>\n",
       "      <td>NaN</td>\n",
       "      <td>100</td>\n",
       "      <td>21</td>\n",
       "    </tr>\n",
       "    <tr>\n",
       "      <th>49640</th>\n",
       "      <td>49641</td>\n",
       "      <td>NaN</td>\n",
       "      <td>100</td>\n",
       "      <td>21</td>\n",
       "    </tr>\n",
       "    <tr>\n",
       "      <th>49663</th>\n",
       "      <td>49664</td>\n",
       "      <td>NaN</td>\n",
       "      <td>100</td>\n",
       "      <td>21</td>\n",
       "    </tr>\n",
       "    <tr>\n",
       "      <th>49668</th>\n",
       "      <td>49669</td>\n",
       "      <td>NaN</td>\n",
       "      <td>100</td>\n",
       "      <td>21</td>\n",
       "    </tr>\n",
       "  </tbody>\n",
       "</table>\n",
       "<p>1258 rows × 4 columns</p>\n",
       "</div>"
      ],
      "text/plain": [
       "       product_id product_name  aisle_id  department_id\n",
       "37             38          NaN       100             21\n",
       "71             72          NaN       100             21\n",
       "109           110          NaN       100             21\n",
       "296           297          NaN       100             21\n",
       "416           417          NaN       100             21\n",
       "...           ...          ...       ...            ...\n",
       "49552       49553          NaN       100             21\n",
       "49574       49575          NaN       100             21\n",
       "49640       49641          NaN       100             21\n",
       "49663       49664          NaN       100             21\n",
       "49668       49669          NaN       100             21\n",
       "\n",
       "[1258 rows x 4 columns]"
      ]
     },
     "execution_count": 25,
     "metadata": {},
     "output_type": "execute_result"
    }
   ],
   "source": [
    "# ¿Todos los nombres de productos ausentes están relacionados con el departamento con ID 21?\n",
    "prod[(prod['product_name'].isna()) & (prod['department_id'] == 21)]"
   ]
  },
  {
   "cell_type": "markdown",
   "id": "qDpdYn1Fht_I",
   "metadata": {
    "id": "qDpdYn1Fht_I"
   },
   "source": [
    "Tambien podemos ver que todos los productos ausentes se encuentran en el departamento 21, tendriamos que investigar que fue lo que paso con el departamento y el encargado de subir todos los productos dependiendo de su departamento. #Describe brevemente cuáles son tus hallazgos."
   ]
  },
  {
   "cell_type": "code",
   "execution_count": 26,
   "id": "325c3464",
   "metadata": {
    "id": "325c3464"
   },
   "outputs": [
    {
     "data": {
      "text/plain": [
       "20    missing\n",
       "Name: department, dtype: object"
      ]
     },
     "metadata": {},
     "output_type": "display_data"
    },
    {
     "data": {
      "text/plain": [
       "99    missing\n",
       "Name: aisle, dtype: object"
      ]
     },
     "metadata": {},
     "output_type": "display_data"
    }
   ],
   "source": [
    "# Usa las tablas department y aisle para revisar los datos del pasillo con ID 100 y el departamento con ID 21.\n",
    "display(depto[depto['department_id']==21]['department'])\n",
    "display(aisl[aisl['aisle_id']==100]['aisle'])"
   ]
  },
  {
   "cell_type": "markdown",
   "id": "nqhSTUPhhvEJ",
   "metadata": {
    "id": "nqhSTUPhhvEJ"
   },
   "source": [
    "Podemos ver que en el departamento 21 tenemos 20 datos perdidos por lo que debe ser que fueron articulos que se quitaron de la plataforma tal vez porque los dejaron de vender y en el pasillo 100 encontramos 99 articulos que faltan posiblemente hay algo mal en ese pasillo y esta de mas, por lo que seria bueno que lo remuevan. #Describe brevemente cuáles son tus hallazgos."
   ]
  },
  {
   "cell_type": "code",
   "execution_count": 27,
   "id": "6b295120",
   "metadata": {
    "id": "6b295120"
   },
   "outputs": [
    {
     "name": "stdout",
     "output_type": "stream",
     "text": [
      "   product_id                                       product_name  aisle_id  \\\n",
      "0           1                         CHOCOLATE SANDWICH COOKIES        61   \n",
      "1           2                                   ALL-SEASONS SALT       104   \n",
      "2           3               ROBUST GOLDEN UNSWEETENED OOLONG TEA        94   \n",
      "3           4  SMART ONES CLASSIC FAVORITES MINI RIGATONI WIT...        38   \n",
      "4           5                          GREEN CHILE ANYTIME SAUCE         5   \n",
      "\n",
      "   department_id  \n",
      "0             19  \n",
      "1             13  \n",
      "2              7  \n",
      "3              1  \n",
      "4             13  \n"
     ]
    }
   ],
   "source": [
    "# Completa los nombres de productos ausentes con 'Unknown'\n",
    "prod['product_name'].fillna('Unknown')\n",
    "print(prod.head())"
   ]
  },
  {
   "cell_type": "markdown",
   "id": "fc70e5ad",
   "metadata": {
    "id": "fc70e5ad"
   },
   "source": [
    "En este caso es mejor rellenar los articulos ausentes y no eliminarlos ya que de esta manera podemos ver la informacion mas original y sacar nuevas hipotesis tomando en cuanto los articulos o los datos que estan ausentes. #Describe brevemente tus hallazgos y lo que hiciste con ellos."
   ]
  },
  {
   "cell_type": "markdown",
   "id": "7eb45c86",
   "metadata": {
    "id": "7eb45c86"
   },
   "source": [
    "### `orders` data frame"
   ]
  },
  {
   "cell_type": "code",
   "execution_count": 28,
   "id": "93e41d96",
   "metadata": {
    "id": "93e41d96"
   },
   "outputs": [
    {
     "data": {
      "text/plain": [
       "order_id                      0\n",
       "user_id                       0\n",
       "order_number                  0\n",
       "order_dow                     0\n",
       "order_hour_of_day             0\n",
       "days_since_prior_order    28819\n",
       "dtype: int64"
      ]
     },
     "execution_count": 28,
     "metadata": {},
     "output_type": "execute_result"
    }
   ],
   "source": [
    "# Encuentra los valores ausentes\n",
    "data.isna().sum()"
   ]
  },
  {
   "cell_type": "code",
   "execution_count": 29,
   "id": "166e5a86",
   "metadata": {
    "id": "166e5a86"
   },
   "outputs": [
    {
     "data": {
      "text/plain": [
       "0"
      ]
     },
     "execution_count": 29,
     "metadata": {},
     "output_type": "execute_result"
    }
   ],
   "source": [
    "# ¿Hay algún valor ausente que no sea el primer pedido del cliente?\n",
    "not_first_order = data[data['order_number']!=1]\n",
    "not_first_order['days_since_prior_order'].isna().sum()"
   ]
  },
  {
   "cell_type": "markdown",
   "id": "4e23d089",
   "metadata": {
    "id": "4e23d089"
   },
   "source": [
    "Podemos ver que no tenemos valores ausentes que no sean el primer pedido, lo que nos dice es que si se registran bien las veces que el cliente decide no pedir mas comida. #Describe brevemente tus hallazgos y lo que hiciste con ellos."
   ]
  },
  {
   "cell_type": "markdown",
   "id": "69dc9ca4",
   "metadata": {
    "id": "69dc9ca4"
   },
   "source": [
    "### `order_products` data frame"
   ]
  },
  {
   "cell_type": "code",
   "execution_count": 30,
   "id": "b8240253",
   "metadata": {
    "id": "b8240253"
   },
   "outputs": [
    {
     "data": {
      "text/html": [
       "<div>\n",
       "<style scoped>\n",
       "    .dataframe tbody tr th:only-of-type {\n",
       "        vertical-align: middle;\n",
       "    }\n",
       "\n",
       "    .dataframe tbody tr th {\n",
       "        vertical-align: top;\n",
       "    }\n",
       "\n",
       "    .dataframe thead th {\n",
       "        text-align: right;\n",
       "    }\n",
       "</style>\n",
       "<table border=\"1\" class=\"dataframe\">\n",
       "  <thead>\n",
       "    <tr style=\"text-align: right;\">\n",
       "      <th></th>\n",
       "      <th>order_id</th>\n",
       "      <th>product_id</th>\n",
       "      <th>add_to_cart_order</th>\n",
       "      <th>reordered</th>\n",
       "    </tr>\n",
       "  </thead>\n",
       "  <tbody>\n",
       "    <tr>\n",
       "      <th>737</th>\n",
       "      <td>2449164</td>\n",
       "      <td>5068</td>\n",
       "      <td>NaN</td>\n",
       "      <td>0</td>\n",
       "    </tr>\n",
       "    <tr>\n",
       "      <th>9926</th>\n",
       "      <td>1968313</td>\n",
       "      <td>43867</td>\n",
       "      <td>NaN</td>\n",
       "      <td>0</td>\n",
       "    </tr>\n",
       "    <tr>\n",
       "      <th>14394</th>\n",
       "      <td>2926893</td>\n",
       "      <td>11688</td>\n",
       "      <td>NaN</td>\n",
       "      <td>0</td>\n",
       "    </tr>\n",
       "    <tr>\n",
       "      <th>16418</th>\n",
       "      <td>1717990</td>\n",
       "      <td>4142</td>\n",
       "      <td>NaN</td>\n",
       "      <td>0</td>\n",
       "    </tr>\n",
       "    <tr>\n",
       "      <th>30114</th>\n",
       "      <td>1959075</td>\n",
       "      <td>42828</td>\n",
       "      <td>NaN</td>\n",
       "      <td>1</td>\n",
       "    </tr>\n",
       "    <tr>\n",
       "      <th>...</th>\n",
       "      <td>...</td>\n",
       "      <td>...</td>\n",
       "      <td>...</td>\n",
       "      <td>...</td>\n",
       "    </tr>\n",
       "    <tr>\n",
       "      <th>4505662</th>\n",
       "      <td>1800005</td>\n",
       "      <td>7411</td>\n",
       "      <td>NaN</td>\n",
       "      <td>0</td>\n",
       "    </tr>\n",
       "    <tr>\n",
       "      <th>4511400</th>\n",
       "      <td>1633337</td>\n",
       "      <td>260</td>\n",
       "      <td>NaN</td>\n",
       "      <td>0</td>\n",
       "    </tr>\n",
       "    <tr>\n",
       "      <th>4517562</th>\n",
       "      <td>404157</td>\n",
       "      <td>9517</td>\n",
       "      <td>NaN</td>\n",
       "      <td>0</td>\n",
       "    </tr>\n",
       "    <tr>\n",
       "      <th>4534112</th>\n",
       "      <td>1673227</td>\n",
       "      <td>17835</td>\n",
       "      <td>NaN</td>\n",
       "      <td>0</td>\n",
       "    </tr>\n",
       "    <tr>\n",
       "      <th>4535739</th>\n",
       "      <td>1832957</td>\n",
       "      <td>17949</td>\n",
       "      <td>NaN</td>\n",
       "      <td>1</td>\n",
       "    </tr>\n",
       "  </tbody>\n",
       "</table>\n",
       "<p>836 rows × 4 columns</p>\n",
       "</div>"
      ],
      "text/plain": [
       "         order_id  product_id  add_to_cart_order  reordered\n",
       "737       2449164        5068                NaN          0\n",
       "9926      1968313       43867                NaN          0\n",
       "14394     2926893       11688                NaN          0\n",
       "16418     1717990        4142                NaN          0\n",
       "30114     1959075       42828                NaN          1\n",
       "...           ...         ...                ...        ...\n",
       "4505662   1800005        7411                NaN          0\n",
       "4511400   1633337         260                NaN          0\n",
       "4517562    404157        9517                NaN          0\n",
       "4534112   1673227       17835                NaN          0\n",
       "4535739   1832957       17949                NaN          1\n",
       "\n",
       "[836 rows x 4 columns]"
      ]
     },
     "execution_count": 30,
     "metadata": {},
     "output_type": "execute_result"
    }
   ],
   "source": [
    "# Encuentra los valores ausentes\n",
    "order[order['add_to_cart_order'].isna()]"
   ]
  },
  {
   "cell_type": "code",
   "execution_count": 31,
   "id": "9a78e5ee",
   "metadata": {
    "id": "9a78e5ee"
   },
   "outputs": [
    {
     "name": "stdout",
     "output_type": "stream",
     "text": [
      "1.0\n",
      "64.0\n"
     ]
    }
   ],
   "source": [
    "# ¿Cuáles son los valores mínimos y máximos en esta columna?\n",
    "print(order['add_to_cart_order'].min())\n",
    "print(order['add_to_cart_order'].max())"
   ]
  },
  {
   "cell_type": "markdown",
   "id": "-Z2Ja215jW78",
   "metadata": {
    "id": "-Z2Ja215jW78"
   },
   "source": [
    "En este caso encontramos que el minimo de pedidos es 1 y el maximo es 64 por lo que vemos que no hay pedidos con mas de 64 productos. #Describe brevemente cuáles son tus hallazgos."
   ]
  },
  {
   "cell_type": "code",
   "execution_count": 32,
   "id": "ab9d0c2b",
   "metadata": {
    "id": "ab9d0c2b"
   },
   "outputs": [
    {
     "name": "stdout",
     "output_type": "stream",
     "text": [
      "[9310, 61355, 102236, 129627, 165801, 171934, 180546, 264710, 293169, 388234, 404157, 678116, 733526, 747668, 813364, 844733, 854647, 871281, 888470, 903110, 936852, 1021563, 1038146, 1169835, 1183255, 1220886, 1302315, 1308785, 1386261, 1477139, 1529171, 1564093, 1598369, 1625713, 1633337, 1648217, 1673227, 1677118, 1713430, 1717990, 1730767, 1800005, 1832957, 1888628, 1916118, 1959075, 1961723, 1968313, 2094761, 2136777, 2170451, 2256933, 2409109, 2449164, 2470674, 2479011, 2621907, 2625444, 2652650, 2721963, 2729254, 2849370, 2926893, 2979697, 2997021, 2999801, 3125735, 3308010, 3347453, 3383594]\n"
     ]
    }
   ],
   "source": [
    "# Guarda todas las IDs de pedidos que tengan un valor ausente en 'add_to_cart_order'\n",
    "miss_item = sorted(list(order[order['add_to_cart_order'].isna()]['order_id'].unique()))\n",
    "print(miss_item)"
   ]
  },
  {
   "cell_type": "code",
   "execution_count": 33,
   "id": "54c31695",
   "metadata": {
    "id": "54c31695"
   },
   "outputs": [
    {
     "data": {
      "text/plain": [
       "65"
      ]
     },
     "execution_count": 33,
     "metadata": {},
     "output_type": "execute_result"
    }
   ],
   "source": [
    "# ¿Todos los pedidos con valores ausentes tienen más de 64 productos?\n",
    "# Agrupa todos los pedidos con datos ausentes por su ID de pedido.\n",
    "# Cuenta el número de 'product_id' en cada pedido y revisa el valor mínimo del conteo.\n",
    "orders_values =order[order['order_id'].isin(miss_item)].groupby('order_id')\n",
    "orders_values['product_id'].count().min()"
   ]
  },
  {
   "cell_type": "markdown",
   "id": "p9V6pddtjglj",
   "metadata": {
    "id": "p9V6pddtjglj"
   },
   "source": [
    "Describe brevemente cuáles son tus hallazgos."
   ]
  },
  {
   "cell_type": "code",
   "execution_count": 34,
   "id": "7a987d08",
   "metadata": {
    "id": "7a987d08"
   },
   "outputs": [
    {
     "name": "stdout",
     "output_type": "stream",
     "text": [
      "<class 'pandas.core.frame.DataFrame'>\n",
      "RangeIndex: 4545007 entries, 0 to 4545006\n",
      "Data columns (total 4 columns):\n",
      " #   Column             Non-Null Count    Dtype\n",
      "---  ------             --------------    -----\n",
      " 0   order_id           4545007 non-null  int64\n",
      " 1   product_id         4545007 non-null  int64\n",
      " 2   add_to_cart_order  4545007 non-null  int64\n",
      " 3   reordered          4545007 non-null  int64\n",
      "dtypes: int64(4)\n",
      "memory usage: 138.7 MB\n"
     ]
    }
   ],
   "source": [
    "# Remplaza los valores ausentes en la columna 'add_to_cart? con 999 y convierte la columna al tipo entero.\n",
    "order ['add_to_cart_order'] = order['add_to_cart_order'].fillna(999).astype('int')\n",
    "order.info(show_counts=True)\n"
   ]
  },
  {
   "cell_type": "markdown",
   "id": "fea4bcc7",
   "metadata": {
    "id": "fea4bcc7"
   },
   "source": [
    "Aqui lo que hacemos es rellenar los valores ausentes y no eliminarlos para poder trabajar mejor con los datos originales y descrubrir que paso con esos valores que ya no estan #Describe brevemente tus hallazgos y lo que hiciste con ellos."
   ]
  },
  {
   "cell_type": "markdown",
   "id": "RnplPFY1gSrb",
   "metadata": {
    "id": "RnplPFY1gSrb"
   },
   "source": [
    "## Conclusiones\n",
    "\n",
    "Como conclusion podemos decir que en este paso 2 hicimos todo el procesamiento de los datos para poder trabajar con informacion mas certera y asimismo descrubir si hay algun tipo de problema o si hay informacion que haga falta en el dataframe que estemos trabajando asi como tambien poder decidir que es lo mejor, si eliminar, rellenar o buscar otro dataframe para poder encontrar la informacion faltante o tambien para ver si estamos trabajando con muchos duplicados y descubrir la manera de utilizarlos mejor. #Escribe aquí tus conclusiones intermedias sobre el Paso 2. Preprocesamiento de los datos\n"
   ]
  },
  {
   "cell_type": "markdown",
   "id": "UjrOIwTcz3ri",
   "metadata": {
    "id": "UjrOIwTcz3ri"
   },
   "source": [
    "# Paso 3. Análisis de los datos\n",
    "\n",
    "Una vez los datos estén procesados y listos, haz el siguiente análisis:"
   ]
  },
  {
   "cell_type": "markdown",
   "id": "turkish-kidney",
   "metadata": {
    "id": "turkish-kidney"
   },
   "source": [
    "# [A] Fácil (deben completarse todos para aprobar)\n",
    "\n",
    "1. Verifica que los valores en las columnas `'order_hour_of_day'` y `'order_dow'` en la tabla orders sean razonables (es decir, `'order_hour_of_day'` oscile entre 0 y 23 y `'order_dow'` oscile entre 0 y 6).\n",
    "2. Crea un gráfico que muestre el número de personas que hacen pedidos dependiendo de la hora del día.\n",
    "3. Crea un gráfico que muestre qué día de la semana la gente hace sus compras.\n",
    "4. Crea un gráfico que muestre el tiempo que la gente espera hasta hacer su siguiente pedido, y comenta sobre los valores mínimos y máximos."
   ]
  },
  {
   "cell_type": "markdown",
   "id": "short-capability",
   "metadata": {
    "id": "short-capability"
   },
   "source": [
    "### [A1] Verifica que los valores sean sensibles"
   ]
  },
  {
   "cell_type": "code",
   "execution_count": 35,
   "id": "growing-fruit",
   "metadata": {
    "id": "growing-fruit"
   },
   "outputs": [
    {
     "data": {
      "text/plain": [
       "array([13, 12, 19, 20, 11,  8, 18, 15, 16,  9, 22, 10,  0, 14, 17,  1,  7,\n",
       "        6,  2, 21,  3, 23,  5,  4])"
      ]
     },
     "execution_count": 35,
     "metadata": {},
     "output_type": "execute_result"
    }
   ],
   "source": [
    "data['order_hour_of_day'].unique()\n"
   ]
  },
  {
   "cell_type": "code",
   "execution_count": 36,
   "id": "accessory-malaysia",
   "metadata": {
    "id": "accessory-malaysia"
   },
   "outputs": [
    {
     "data": {
      "text/plain": [
       "array([6, 5, 0, 4, 3, 1, 2])"
      ]
     },
     "execution_count": 36,
     "metadata": {},
     "output_type": "execute_result"
    }
   ],
   "source": [
    "data['order_dow'].unique()"
   ]
  },
  {
   "cell_type": "markdown",
   "id": "hmR2GNQ6lCsX",
   "metadata": {
    "id": "hmR2GNQ6lCsX"
   },
   "source": [
    "Escribe aquí tus conclusiones"
   ]
  },
  {
   "cell_type": "markdown",
   "id": "a6743a70",
   "metadata": {
    "id": "a6743a70"
   },
   "source": [
    "### [A2] Para cada hora del día, ¿cuántas personas hacen órdenes?"
   ]
  },
  {
   "cell_type": "code",
   "execution_count": 37,
   "id": "a36cca27",
   "metadata": {
    "id": "a36cca27"
   },
   "outputs": [
    {
     "data": {
      "text/plain": [
       "<AxesSubplot:title={'center':'Pedidos segun la hora'}, xlabel='hora del dia', ylabel='Numero de personas'>"
      ]
     },
     "execution_count": 37,
     "metadata": {},
     "output_type": "execute_result"
    },
    {
     "data": {
      "image/png": "[encoded data removed]",
      "text/plain": [
       "<Figure size 432x288 with 1 Axes>"
      ]
     },
     "metadata": {
      "needs_background": "light"
     },
     "output_type": "display_data"
    }
   ],
   "source": [
    "usuarios_por_hora = data.groupby('order_hour_of_day')['user_id'].count()\n",
    "usuarios_por_hora.plot(kind='bar',title='Pedidos segun la hora', ylabel='Numero de personas', xlabel='hora del dia')"
   ]
  },
  {
   "cell_type": "markdown",
   "id": "11270eed",
   "metadata": {
    "id": "11270eed"
   },
   "source": [
    "Con este grafico podemos ver que la mayor cantidad de pedidos se hacen entre las 9 am y las 5 de la tarde. #Escribe aquí tus conclusiones"
   ]
  },
  {
   "cell_type": "markdown",
   "id": "documented-command",
   "metadata": {
    "id": "documented-command"
   },
   "source": [
    "### [A3] ¿Qué día de la semana compran víveres las personas?"
   ]
  },
  {
   "cell_type": "code",
   "execution_count": 38,
   "id": "chief-digit",
   "metadata": {
    "id": "chief-digit"
   },
   "outputs": [
    {
     "data": {
      "text/plain": [
       "<AxesSubplot:title={'center':'Compras por dias de la semana'}, xlabel='Dia de la semana', ylabel='Numero de personas'>"
      ]
     },
     "execution_count": 38,
     "metadata": {},
     "output_type": "execute_result"
    },
    {
     "data": {
      "image/png": "[encoded data removed]",
      "text/plain": [
       "<Figure size 432x288 with 1 Axes>"
      ]
     },
     "metadata": {
      "needs_background": "light"
     },
     "output_type": "display_data"
    }
   ],
   "source": [
    "usuarios_viveres= data.groupby('order_dow')['user_id'].count()\n",
    "usuarios_viveres.plot(kind='bar',title='Compras por dias de la semana', ylabel='Numero de personas',xlabel='Dia de la semana')"
   ]
  },
  {
   "cell_type": "markdown",
   "id": "dominant-lightning",
   "metadata": {
    "id": "dominant-lightning"
   },
   "source": [
    "Aqui se muestra que la mayor cantidad de compras se hacen entre domingo y lunes ya que a las personas les gusta iniciar la semana preparados asi como tambien los domingos si esperan visitas pueden tener las cosas a mano para hacer una cena o cualquier otra comida. #Escribe aquí tus conclusiones"
   ]
  },
  {
   "cell_type": "markdown",
   "id": "cutting-concert",
   "metadata": {
    "id": "cutting-concert"
   },
   "source": [
    "### [A4] ¿Cuánto tiempo esperan las personas hasta hacer otro pedido? Comenta sobre los valores mínimos y máximos."
   ]
  },
  {
   "cell_type": "code",
   "execution_count": 39,
   "id": "c231f523",
   "metadata": {
    "id": "c231f523"
   },
   "outputs": [
    {
     "name": "stdout",
     "output_type": "stream",
     "text": [
      "2640 51338\n"
     ]
    },
    {
     "data": {
      "text/plain": [
       "<AxesSubplot:title={'center':'Dias transcurridos desde el primer pedido'}, xlabel='Numero de dias', ylabel='Numero de pedidos'>"
      ]
     },
     "execution_count": 39,
     "metadata": {},
     "output_type": "execute_result"
    },
    {
     "data": {
      "image/png": "[encoded data removed]",
      "text/plain": [
       "<Figure size 432x288 with 1 Axes>"
      ]
     },
     "metadata": {
      "needs_background": "light"
     },
     "output_type": "display_data"
    }
   ],
   "source": [
    "tiempo_pedidos = data['days_since_prior_order'].value_counts().sort_index()\n",
    "print(tiempo_pedidos.min(),tiempo_pedidos.max())\n",
    "tiempo_pedidos.plot(kind='bar', title='Dias transcurridos desde el primer pedido', ylabel='Numero de pedidos', xlabel='Numero de dias')"
   ]
  },
  {
   "cell_type": "markdown",
   "id": "discrete-vertex",
   "metadata": {
    "id": "discrete-vertex"
   },
   "source": [
    "Este grafico nos muestra que la mayor cantidad de personas suele comprar una vez al mes en esta plataforma pero tambien hay una buena cantidad de gente que compra por esta plataforma cada 8 dias, posiblemente les parezca mejor tener comida nueva cada semana.  #Escribe aquí tus conclusiones"
   ]
  },
  {
   "cell_type": "markdown",
   "id": "tight-staff",
   "metadata": {
    "id": "tight-staff"
   },
   "source": [
    "# [B] Intermedio (deben completarse todos para aprobar)\n",
    "\n",
    "1. ¿Existe alguna diferencia entre las distribuciones `'order_hour_of_day'` de los miércoles y los sábados? Traza gráficos de barra de `'order_hour_of_day'` para ambos días en la misma figura y describe las diferencias que observes.\n",
    "2. Grafica la distribución para el número de órdenes que hacen los clientes (es decir, cuántos clientes hicieron solo 1 pedido, cuántos hicieron 2, cuántos 3, y así sucesivamente...).\n",
    "3. ¿Cuáles son los 20 principales productos que se piden con más frecuencia (muestra su identificación y nombre)?"
   ]
  },
  {
   "cell_type": "markdown",
   "id": "packed-classic",
   "metadata": {
    "id": "packed-classic"
   },
   "source": [
    "### [B1] Diferencia entre miércoles y sábados para  `'order_hour_of_day'`. Traza gráficos de barra para los dos días y describe las diferencias que veas."
   ]
  },
  {
   "cell_type": "code",
   "execution_count": 40,
   "id": "d89b8403",
   "metadata": {
    "id": "d89b8403"
   },
   "outputs": [],
   "source": [
    "horas_miercoles = data[data['order_dow']==3]['order_hour_of_day'].value_counts().sort_index()\n",
    "horas_sabados = data[data['order_dow']==6]['order_hour_of_day'].value_counts().sort_index()\n"
   ]
  },
  {
   "cell_type": "code",
   "execution_count": 41,
   "id": "94e54e8a",
   "metadata": {
    "id": "94e54e8a"
   },
   "outputs": [],
   "source": [
    "horas_dias = pd.concat([horas_miercoles, horas_sabados], axis=1)\n",
    "horas_dias.columns = ['miercoles','sabado']"
   ]
  },
  {
   "cell_type": "code",
   "execution_count": 42,
   "id": "797c90a8",
   "metadata": {
    "id": "797c90a8"
   },
   "outputs": [
    {
     "data": {
      "text/html": [
       "<div>\n",
       "<style scoped>\n",
       "    .dataframe tbody tr th:only-of-type {\n",
       "        vertical-align: middle;\n",
       "    }\n",
       "\n",
       "    .dataframe tbody tr th {\n",
       "        vertical-align: top;\n",
       "    }\n",
       "\n",
       "    .dataframe thead th {\n",
       "        text-align: right;\n",
       "    }\n",
       "</style>\n",
       "<table border=\"1\" class=\"dataframe\">\n",
       "  <thead>\n",
       "    <tr style=\"text-align: right;\">\n",
       "      <th></th>\n",
       "      <th>miercoles</th>\n",
       "      <th>sabado</th>\n",
       "    </tr>\n",
       "  </thead>\n",
       "  <tbody>\n",
       "    <tr>\n",
       "      <th>0</th>\n",
       "      <td>373</td>\n",
       "      <td>464</td>\n",
       "    </tr>\n",
       "    <tr>\n",
       "      <th>1</th>\n",
       "      <td>215</td>\n",
       "      <td>254</td>\n",
       "    </tr>\n",
       "    <tr>\n",
       "      <th>2</th>\n",
       "      <td>121</td>\n",
       "      <td>177</td>\n",
       "    </tr>\n",
       "    <tr>\n",
       "      <th>3</th>\n",
       "      <td>101</td>\n",
       "      <td>125</td>\n",
       "    </tr>\n",
       "    <tr>\n",
       "      <th>4</th>\n",
       "      <td>108</td>\n",
       "      <td>118</td>\n",
       "    </tr>\n",
       "    <tr>\n",
       "      <th>5</th>\n",
       "      <td>170</td>\n",
       "      <td>161</td>\n",
       "    </tr>\n",
       "    <tr>\n",
       "      <th>6</th>\n",
       "      <td>643</td>\n",
       "      <td>451</td>\n",
       "    </tr>\n",
       "    <tr>\n",
       "      <th>7</th>\n",
       "      <td>1732</td>\n",
       "      <td>1619</td>\n",
       "    </tr>\n",
       "    <tr>\n",
       "      <th>8</th>\n",
       "      <td>3125</td>\n",
       "      <td>3246</td>\n",
       "    </tr>\n",
       "    <tr>\n",
       "      <th>9</th>\n",
       "      <td>4490</td>\n",
       "      <td>4311</td>\n",
       "    </tr>\n",
       "    <tr>\n",
       "      <th>10</th>\n",
       "      <td>5026</td>\n",
       "      <td>4919</td>\n",
       "    </tr>\n",
       "    <tr>\n",
       "      <th>11</th>\n",
       "      <td>5004</td>\n",
       "      <td>5116</td>\n",
       "    </tr>\n",
       "    <tr>\n",
       "      <th>12</th>\n",
       "      <td>4688</td>\n",
       "      <td>5132</td>\n",
       "    </tr>\n",
       "    <tr>\n",
       "      <th>13</th>\n",
       "      <td>4674</td>\n",
       "      <td>5323</td>\n",
       "    </tr>\n",
       "    <tr>\n",
       "      <th>14</th>\n",
       "      <td>4774</td>\n",
       "      <td>5375</td>\n",
       "    </tr>\n",
       "    <tr>\n",
       "      <th>15</th>\n",
       "      <td>5163</td>\n",
       "      <td>5188</td>\n",
       "    </tr>\n",
       "    <tr>\n",
       "      <th>16</th>\n",
       "      <td>4976</td>\n",
       "      <td>5029</td>\n",
       "    </tr>\n",
       "    <tr>\n",
       "      <th>17</th>\n",
       "      <td>4175</td>\n",
       "      <td>4295</td>\n",
       "    </tr>\n",
       "    <tr>\n",
       "      <th>18</th>\n",
       "      <td>3463</td>\n",
       "      <td>3338</td>\n",
       "    </tr>\n",
       "    <tr>\n",
       "      <th>19</th>\n",
       "      <td>2652</td>\n",
       "      <td>2610</td>\n",
       "    </tr>\n",
       "    <tr>\n",
       "      <th>20</th>\n",
       "      <td>1917</td>\n",
       "      <td>1847</td>\n",
       "    </tr>\n",
       "    <tr>\n",
       "      <th>21</th>\n",
       "      <td>1450</td>\n",
       "      <td>1473</td>\n",
       "    </tr>\n",
       "    <tr>\n",
       "      <th>22</th>\n",
       "      <td>1154</td>\n",
       "      <td>1185</td>\n",
       "    </tr>\n",
       "    <tr>\n",
       "      <th>23</th>\n",
       "      <td>718</td>\n",
       "      <td>893</td>\n",
       "    </tr>\n",
       "  </tbody>\n",
       "</table>\n",
       "</div>"
      ],
      "text/plain": [
       "    miercoles  sabado\n",
       "0         373     464\n",
       "1         215     254\n",
       "2         121     177\n",
       "3         101     125\n",
       "4         108     118\n",
       "5         170     161\n",
       "6         643     451\n",
       "7        1732    1619\n",
       "8        3125    3246\n",
       "9        4490    4311\n",
       "10       5026    4919\n",
       "11       5004    5116\n",
       "12       4688    5132\n",
       "13       4674    5323\n",
       "14       4774    5375\n",
       "15       5163    5188\n",
       "16       4976    5029\n",
       "17       4175    4295\n",
       "18       3463    3338\n",
       "19       2652    2610\n",
       "20       1917    1847\n",
       "21       1450    1473\n",
       "22       1154    1185\n",
       "23        718     893"
      ]
     },
     "execution_count": 42,
     "metadata": {},
     "output_type": "execute_result"
    }
   ],
   "source": [
    "horas_dias"
   ]
  },
  {
   "cell_type": "code",
   "execution_count": 43,
   "id": "35bcea30",
   "metadata": {
    "id": "35bcea30"
   },
   "outputs": [
    {
     "data": {
      "text/plain": [
       "<AxesSubplot:title={'center':'Diferencias entre pedidos miercoles y sabados'}, xlabel='Horas del dia', ylabel='Numero de personas'>"
      ]
     },
     "execution_count": 43,
     "metadata": {},
     "output_type": "execute_result"
    },
    {
     "data": {
      "image/png": "[encoded data removed]",
      "text/plain": [
       "<Figure size 432x288 with 1 Axes>"
      ]
     },
     "metadata": {
      "needs_background": "light"
     },
     "output_type": "display_data"
    }
   ],
   "source": [
    "horas_dias.plot(kind='bar',title='Diferencias entre pedidos miercoles y sabados', ylabel='Numero de personas',xlabel='Horas del dia')"
   ]
  },
  {
   "cell_type": "markdown",
   "id": "charitable-congo",
   "metadata": {
    "id": "charitable-congo"
   },
   "source": [
    "Aca podemos ver que no existe mucha diferencia entre los pedidos de estos dos dias, las personas suelen hace la misma cantidad de pedidos miercoles y sabado pero si se puede ver que durante las horas de la tarde si se hacen un poco mas de pedidos los sabados. #Escribe aquí tus conclusiones"
   ]
  },
  {
   "cell_type": "markdown",
   "id": "e3891143",
   "metadata": {
    "id": "e3891143"
   },
   "source": [
    "### [B2] ¿Cuál es la distribución para el número de pedidos por cliente?"
   ]
  },
  {
   "cell_type": "code",
   "execution_count": 44,
   "id": "d8c26c23",
   "metadata": {
    "id": "d8c26c23"
   },
   "outputs": [],
   "source": [
    "numero_pedidos_por_cliente= data.groupby('order_number')['user_id'].count()"
   ]
  },
  {
   "cell_type": "code",
   "execution_count": 45,
   "id": "00e69a66",
   "metadata": {
    "id": "00e69a66"
   },
   "outputs": [
    {
     "data": {
      "text/plain": [
       "<AxesSubplot:title={'center':'Distribucion de pedidos del cliente'}, xlabel='Numero de ordenes', ylabel='Numero de personas'>"
      ]
     },
     "execution_count": 45,
     "metadata": {},
     "output_type": "execute_result"
    },
    {
     "data": {
      "image/png": "[encoded data removed]",
      "text/plain": [
       "<Figure size 1080x504 with 1 Axes>"
      ]
     },
     "metadata": {
      "needs_background": "light"
     },
     "output_type": "display_data"
    }
   ],
   "source": [
    "numero_pedidos_por_cliente.plot(kind='bar',figsize=[15,7],title='Distribucion de pedidos del cliente', ylabel='Numero de personas',xlabel='Numero de ordenes')"
   ]
  },
  {
   "cell_type": "markdown",
   "id": "d2eff7d5",
   "metadata": {
    "id": "d2eff7d5"
   },
   "source": [
    "En este grafico podemos ver que las personas que usan esta plaforma historicamente no hacen muchos pedidos, la mayoria se encontra entre 1 y 8 o 10 pedidos. #Escribe aquí tus conclusiones"
   ]
  },
  {
   "cell_type": "markdown",
   "id": "54a0319c",
   "metadata": {
    "id": "54a0319c"
   },
   "source": [
    "### [B3] ¿Cuáles son los 20 productos más populares (muestra su ID y nombre)?"
   ]
  },
  {
   "cell_type": "code",
   "execution_count": 46,
   "id": "exterior-arizona",
   "metadata": {
    "id": "exterior-arizona",
    "scrolled": true
   },
   "outputs": [],
   "source": [
    "productos_populares = order.merge(prod, on='product_id')"
   ]
  },
  {
   "cell_type": "code",
   "execution_count": 47,
   "id": "universal-facial",
   "metadata": {
    "id": "universal-facial"
   },
   "outputs": [
    {
     "data": {
      "text/plain": [
       "product_id  product_name            \n",
       "24852       BANANA                      66050\n",
       "13176       BAG OF ORGANIC BANANAS      53297\n",
       "21137       ORGANIC STRAWBERRIES        37039\n",
       "21903       ORGANIC BABY SPINACH        33971\n",
       "47209       ORGANIC HASS AVOCADO        29773\n",
       "47766       ORGANIC AVOCADO             24689\n",
       "47626       LARGE LEMON                 21495\n",
       "16797       STRAWBERRIES                20018\n",
       "26209       LIMES                       19690\n",
       "27845       ORGANIC WHOLE MILK          19600\n",
       "27966       ORGANIC RASPBERRIES         19197\n",
       "22935       ORGANIC YELLOW ONION        15898\n",
       "24964       ORGANIC GARLIC              15292\n",
       "45007       ORGANIC ZUCCHINI            14584\n",
       "39275       ORGANIC BLUEBERRIES         13879\n",
       "49683       CUCUMBER KIRBY              13675\n",
       "28204       ORGANIC FUJI APPLE          12544\n",
       "5876        ORGANIC LEMON               12232\n",
       "8277        APPLE HONEYCRISP ORGANIC    11993\n",
       "40706       ORGANIC GRAPE TOMATOES      11781\n",
       "Name: product_name, dtype: int64"
      ]
     },
     "execution_count": 47,
     "metadata": {},
     "output_type": "execute_result"
    }
   ],
   "source": [
    "productos_populares.groupby(['product_id','product_name'])['product_name'].count().sort_values(ascending=False).head(20)"
   ]
  },
  {
   "cell_type": "markdown",
   "id": "7df00f47",
   "metadata": {
    "id": "7df00f47"
   },
   "source": [
    "Escribe aquí tus conclusiones"
   ]
  },
  {
   "cell_type": "markdown",
   "id": "gross-theme",
   "metadata": {
    "id": "gross-theme"
   },
   "source": [
    "# [C] Difícil (deben completarse todos para aprobar)\n",
    "\n",
    "1. ¿Cuántos artículos suelen comprar las personas en un pedido? ¿Cómo es la distribución?\n",
    "2. ¿Cuáles son los 20 principales artículos que vuelven a pedirse con mayor frecuencia (muestra sus nombres e IDs de los productos)?\n",
    "3. Para cada producto, ¿cuál es la tasa de repetición del pedido (número de repeticiones de pedido/total de pedidos?\n",
    "4. Para cada cliente, ¿qué proporción de los productos que pidió ya los había pedido? Calcula la tasa de repetición de pedido para cada usuario en lugar de para cada producto.\n",
    "5. ¿Cuáles son los 20 principales artículos que la gente pone primero en sus carritos (muestra las IDs de los productos, sus nombres, y el número de veces en que fueron el primer artículo en añadirse al carrito)?"
   ]
  },
  {
   "cell_type": "markdown",
   "id": "romantic-deposit",
   "metadata": {
    "id": "romantic-deposit"
   },
   "source": [
    "### [C1] ¿Cuántos artículos compran normalmente las personas en un pedido? ¿Cómo es la distribución?"
   ]
  },
  {
   "cell_type": "code",
   "execution_count": 48,
   "id": "virtual-punch",
   "metadata": {
    "id": "virtual-punch"
   },
   "outputs": [],
   "source": [
    "compras_productos = order.groupby('order_id')['product_id'].count().value_counts().sort_index()"
   ]
  },
  {
   "cell_type": "code",
   "execution_count": 49,
   "id": "sensitive-breathing",
   "metadata": {
    "id": "sensitive-breathing"
   },
   "outputs": [
    {
     "data": {
      "text/plain": [
       "1      21847\n",
       "2      26292\n",
       "3      29046\n",
       "4      31054\n",
       "5      31923\n",
       "       ...  \n",
       "98         1\n",
       "104        1\n",
       "108        1\n",
       "115        1\n",
       "127        1\n",
       "Name: product_id, Length: 90, dtype: int64"
      ]
     },
     "execution_count": 49,
     "metadata": {},
     "output_type": "execute_result"
    }
   ],
   "source": [
    "compras_productos"
   ]
  },
  {
   "cell_type": "code",
   "execution_count": 50,
   "id": "completed-frank",
   "metadata": {
    "id": "completed-frank"
   },
   "outputs": [
    {
     "data": {
      "text/plain": [
       "<AxesSubplot:title={'center':'Articulos comprados en un pedido'}, xlabel='Numero de articulos', ylabel='Numero de pedidos'>"
      ]
     },
     "execution_count": 50,
     "metadata": {},
     "output_type": "execute_result"
    },
    {
     "data": {
      "image/png": "[encoded data removed]",
      "text/plain": [
       "<Figure size 1440x504 with 1 Axes>"
      ]
     },
     "metadata": {
      "needs_background": "light"
     },
     "output_type": "display_data"
    }
   ],
   "source": [
    "compras_productos.plot(kind='bar',title='Articulos comprados en un pedido',ylabel='Numero de pedidos', xlabel='Numero de articulos', figsize=[20,7])"
   ]
  },
  {
   "cell_type": "markdown",
   "id": "designed-mortality",
   "metadata": {
    "id": "designed-mortality"
   },
   "source": [
    "Aca podemos ver que la mayoria de personas compra pocos articulos en en los pedidos posiblemente por que usan la plataforma para cosas especificas o para emergencias. #Escribe aquí tus conclusiones"
   ]
  },
  {
   "cell_type": "markdown",
   "id": "5e6b5537",
   "metadata": {
    "id": "5e6b5537"
   },
   "source": [
    "### [C2] ¿Cuáles son los 20 principales artículos que vuelven a pedirse con mayor frecuencia (muestra sus nombres e IDs de los productos)?"
   ]
  },
  {
   "cell_type": "code",
   "execution_count": 51,
   "id": "9374e55a",
   "metadata": {
    "id": "9374e55a"
   },
   "outputs": [],
   "source": [
    "order_productos = order.merge(prod,on='product_id')"
   ]
  },
  {
   "cell_type": "code",
   "execution_count": 52,
   "id": "possible-change",
   "metadata": {
    "id": "possible-change",
    "scrolled": true
   },
   "outputs": [
    {
     "name": "stdout",
     "output_type": "stream",
     "text": [
      "product_id  product_name            \n",
      "24852       BANANA                      55763\n",
      "13176       BAG OF ORGANIC BANANAS      44450\n",
      "21137       ORGANIC STRAWBERRIES        28639\n",
      "21903       ORGANIC BABY SPINACH        26233\n",
      "47209       ORGANIC HASS AVOCADO        23629\n",
      "47766       ORGANIC AVOCADO             18743\n",
      "27845       ORGANIC WHOLE MILK          16251\n",
      "47626       LARGE LEMON                 15044\n",
      "27966       ORGANIC RASPBERRIES         14748\n",
      "16797       STRAWBERRIES                13945\n",
      "26209       LIMES                       13327\n",
      "22935       ORGANIC YELLOW ONION        11145\n",
      "24964       ORGANIC GARLIC              10411\n",
      "45007       ORGANIC ZUCCHINI            10076\n",
      "49683       CUCUMBER KIRBY               9538\n",
      "28204       ORGANIC FUJI APPLE           8989\n",
      "8277        APPLE HONEYCRISP ORGANIC     8836\n",
      "39275       ORGANIC BLUEBERRIES          8799\n",
      "5876        ORGANIC LEMON                8412\n",
      "49235       ORGANIC HALF & HALF          8389\n",
      "Name: order_id, dtype: int64\n"
     ]
    }
   ],
   "source": [
    "productos_mas_pedidos = order_productos [order_productos['reordered']== 1].groupby(['product_id','product_name'])['order_id'].count().sort_values(ascending=False)\n",
    "print(productos_mas_pedidos.head(20))"
   ]
  },
  {
   "cell_type": "markdown",
   "id": "80e70c74",
   "metadata": {
    "id": "80e70c74"
   },
   "source": [
    "Aca lo que vemos es que los articulos que se piden con mayor frecuencia son frutas lo mas probable sea porque son las que se gastan o se descomponen mas rapido por lo que la gente las compra con mayor frecuencia. #Escribe aquí tus conclusiones"
   ]
  },
  {
   "cell_type": "markdown",
   "id": "9d312b14",
   "metadata": {
    "id": "9d312b14"
   },
   "source": [
    "### [C3] Para cada producto, ¿cuál es la proporción de las veces que se pide y que se vuelve a pedir?"
   ]
  },
  {
   "cell_type": "code",
   "execution_count": 53,
   "id": "8ae9f4b1",
   "metadata": {
    "id": "8ae9f4b1"
   },
   "outputs": [],
   "source": [
    "veces_que_piden = order.merge(prod, on='product_id')"
   ]
  },
  {
   "cell_type": "code",
   "execution_count": 54,
   "id": "103e7fe1",
   "metadata": {
    "id": "103e7fe1"
   },
   "outputs": [
    {
     "data": {
      "text/plain": [
       "product_id  product_name                                                     \n",
       "1           CHOCOLATE SANDWICH COOKIES                                           0.564286\n",
       "2           ALL-SEASONS SALT                                                     0.000000\n",
       "3           ROBUST GOLDEN UNSWEETENED OOLONG TEA                                 0.738095\n",
       "4           SMART ONES CLASSIC FAVORITES MINI RIGATONI WITH VODKA CREAM SAUCE    0.510204\n",
       "7           PURE COCONUT WATER WITH ORANGE                                       0.500000\n",
       "                                                                                   ...   \n",
       "49690       HIGH PERFORMANCE ENERGY DRINK                                        0.800000\n",
       "49691       ORIGINAL PANCAKE & WAFFLE MIX                                        0.430556\n",
       "49692       ORGANIC INSTANT OATMEAL LIGHT MAPLE BROWN SUGAR                      0.416667\n",
       "49693       SPRING WATER BODY WASH                                               0.440000\n",
       "49694       BURRITO- STEAK & CHEESE                                              0.333333\n",
       "Name: reordered, Length: 44613, dtype: float64"
      ]
     },
     "execution_count": 54,
     "metadata": {},
     "output_type": "execute_result"
    }
   ],
   "source": [
    "veces_que_piden.groupby(['product_id','product_name'])['reordered'].mean()"
   ]
  },
  {
   "cell_type": "code",
   "execution_count": null,
   "id": "social-individual",
   "metadata": {
    "id": "social-individual"
   },
   "outputs": [],
   "source": []
  },
  {
   "cell_type": "markdown",
   "id": "I10dEIAyldcO",
   "metadata": {
    "id": "I10dEIAyldcO"
   },
   "source": [
    "Escribe aquí tus conclusiones"
   ]
  },
  {
   "cell_type": "markdown",
   "id": "subject-boxing",
   "metadata": {
    "id": "subject-boxing"
   },
   "source": [
    "### [C4] Para cada cliente, ¿qué proporción de sus productos ya los había pedido?"
   ]
  },
  {
   "cell_type": "code",
   "execution_count": 55,
   "id": "medical-couple",
   "metadata": {
    "id": "medical-couple",
    "scrolled": true
   },
   "outputs": [],
   "source": [
    "productos_por_cliente = order.merge(data, on='order_id')"
   ]
  },
  {
   "cell_type": "code",
   "execution_count": 56,
   "id": "8892e4b4",
   "metadata": {
    "id": "8892e4b4"
   },
   "outputs": [
    {
     "data": {
      "text/plain": [
       "order_id  user_id\n",
       "4         178520     0.923077\n",
       "9         139016     0.666667\n",
       "11        143742     1.000000\n",
       "19        83009      1.000000\n",
       "20        182912     0.000000\n",
       "                       ...   \n",
       "3421034   130508     1.000000\n",
       "3421053   32775      1.000000\n",
       "3421071   124485     0.200000\n",
       "3421077   107102     0.000000\n",
       "3421079   108687     0.000000\n",
       "Name: reordered, Length: 450046, dtype: float64"
      ]
     },
     "execution_count": 56,
     "metadata": {},
     "output_type": "execute_result"
    }
   ],
   "source": [
    "productos_por_cliente.groupby(['order_id','user_id'])['reordered'].mean()"
   ]
  },
  {
   "cell_type": "markdown",
   "id": "BgJSvXDsleXz",
   "metadata": {
    "id": "BgJSvXDsleXz"
   },
   "source": [
    "Escribe aquí tus conclusiones"
   ]
  },
  {
   "cell_type": "markdown",
   "id": "92d35137",
   "metadata": {
    "id": "92d35137"
   },
   "source": [
    "### [C5] ¿Cuáles son los 20 principales artículos que las personas ponen primero en sus carritos?"
   ]
  },
  {
   "cell_type": "code",
   "execution_count": 64,
   "id": "0ae57274",
   "metadata": {
    "id": "0ae57274",
    "scrolled": true
   },
   "outputs": [],
   "source": [
    "primeros_articulos = order_productos[order_productos['add_to_cart_order']==1].groupby('product_name')['product_id'].count().sort_values(ascending=False).head(20)"
   ]
  },
  {
   "cell_type": "code",
   "execution_count": 65,
   "id": "forty-netherlands",
   "metadata": {
    "id": "forty-netherlands",
    "scrolled": true
   },
   "outputs": [
    {
     "data": {
      "text/plain": [
       "product_name\n",
       "BANANA                         15562\n",
       "BAG OF ORGANIC BANANAS         11026\n",
       "ORGANIC WHOLE MILK              4363\n",
       "ORGANIC STRAWBERRIES            3946\n",
       "ORGANIC HASS AVOCADO            3390\n",
       "ORGANIC BABY SPINACH            3336\n",
       "ORGANIC AVOCADO                 3044\n",
       "SPRING WATER                    2336\n",
       "STRAWBERRIES                    2308\n",
       "ORGANIC RASPBERRIES             2024\n",
       "SPARKLING WATER GRAPEFRUIT      1914\n",
       "ORGANIC HALF & HALF             1797\n",
       "LARGE LEMON                     1737\n",
       "SODA                            1733\n",
       "ORGANIC REDUCED FAT MILK        1397\n",
       "LIMES                           1370\n",
       "HASS AVOCADOS                   1340\n",
       "ORGANIC REDUCED FAT 2% MILK     1310\n",
       "HALF & HALF                     1309\n",
       "ORGANIC YELLOW ONION            1246\n",
       "Name: product_id, dtype: int64"
      ]
     },
     "execution_count": 65,
     "metadata": {},
     "output_type": "execute_result"
    }
   ],
   "source": [
    "primeros_articulos.head(20)"
   ]
  },
  {
   "cell_type": "markdown",
   "id": "28ce9872",
   "metadata": {
    "id": "28ce9872"
   },
   "source": [
    "Descubrimos que los primeros articulos que las personas ponen en sus carritos son articulos para cafe asi como cosas frias como las bebidas  el yogurt. #Escribe aquí tus conclusiones"
   ]
  },
  {
   "cell_type": "markdown",
   "id": "uITbFCEoDosC",
   "metadata": {
    "id": "uITbFCEoDosC"
   },
   "source": [
    "### Conclusion general del proyecto:\n",
    "como conclusion de este proyecto, podemos decir que lo usuarios de esta plataforma son muy similares en cuanto los motivos porque la utilizan, que por lo general son para hacer compras de alimentos para el hogar, pudimos descubrir la mayoria de usuarios no compran mas 15 productos, asi como los dias preferidos para pedir son los fines de semana o los primeros dias de las semana, tambien notamos que muchos utilizan la plataforma para comprar una vez al mes y algunos poco con mas frecuencia como cada 8 dias. Otra cosa que se puede ver que las verduras son las que se piden con mayor frecuencia y lo primero que ponen en sus carritos es la carne. En general es una plataforma bastante utilizada y gracias a todos estos datos logramos sacar todas estas conclusiones. "
   ]
  },
  {
   "cell_type": "markdown",
   "id": "f6330574",
   "metadata": {
    "id": "Nk-4GS7mDwqY"
   },
   "source": [
    "#### "
   ]
  }
 ],
 "metadata": {
  "colab": {
   "provenance": []
  },
  "kernelspec": {
   "display_name": "Python 3 (ipykernel)",
   "language": "python",
   "name": "python3"
  },
  "language_info": {
   "codemirror_mode": {
    "name": "ipython",
    "version": 3
   },
   "file_extension": ".py",
   "mimetype": "text/x-python",
   "name": "python",
   "nbconvert_exporter": "python",
   "pygments_lexer": "ipython3",
   "version": "3.9.5"
  },
  "toc": {
   "base_numbering": 1,
   "nav_menu": {},
   "number_sections": true,
   "sideBar": true,
   "skip_h1_title": true,
   "title_cell": "Table of Contents",
   "title_sidebar": "Contents",
   "toc_cell": false,
   "toc_position": {},
   "toc_section_display": true,
   "toc_window_display": false
  },
  "vscode": {
   "interpreter": {
    "hash": "01a7be9ec63e704a62cefc5fe7a4756944464ee731be31632bdf42a4cb4688cf"
   }
  }
 },
 "nbformat": 4,
 "nbformat_minor": 5
}
